{
  "nbformat": 4,
  "nbformat_minor": 0,
  "metadata": {
    "colab": {
      "name": "shapes-pruning.ipynb",
      "version": "0.3.2",
      "provenance": [],
      "collapsed_sections": [
        "LUQbRTRocPNN",
        "aiLvxXRpDbiq",
        "xnr8tbDz7WjS",
        "5DC0K7tW7d-M",
        "BI2ncK7kATEh",
        "hbzY16ocEdrg",
        "If8z4OZfDHmC",
        "mOo-0LGFEAmc",
        "bbCBInqHFUg7",
        "tAn3omCjTFGI",
        "xs_KL1R1aGSA",
        "NVjPYFN1Pz6D",
        "tHq9j1HENMMw"
      ]
    },
    "kernelspec": {
      "name": "python3",
      "display_name": "Python 3"
    },
    "accelerator": "GPU"
  },
  "cells": [
    {
      "cell_type": "markdown",
      "metadata": {
        "id": "268x1mG64rCy",
        "colab_type": "text"
      },
      "source": [
        "# Installation"
      ]
    },
    {
      "cell_type": "code",
      "metadata": {
        "id": "VNvKG2TF3Y0B",
        "colab_type": "code",
        "outputId": "62ad88fa-0b36-4ebe-f6f6-77e4b9c4e56f",
        "colab": {
          "base_uri": "https://localhost:8080/",
          "height": 34
        }
      },
      "source": [
        "%%writefile setup.sh\n",
        "\n",
        "# maskrcnn_benchmark and coco api dependencies\n",
        "pip install ninja yacs cython matplotlib tqdm opencv-python\n",
        "\n",
        "# follow PyTorch installation in https://pytorch.org/get-started/locally/\n",
        "# we give the instructions for CUDA 9.0\n",
        "pip install -c pytorch pytorch-nightly torchvision cudatoolkit=9.0\n",
        "\n",
        "\n",
        "git clone https://github.com/cocodataset/cocoapi.git\n",
        "cd cocoapi/PythonAPI\n",
        "python setup.py build_ext install\n",
        "cd ../../\n",
        "\n",
        "# install apex\n",
        "rm -rf apex\n",
        "git clone https://github.com/NVIDIA/apex.git\n",
        "cd apex\n",
        "git pull\n",
        "python setup.py install --cuda_ext --cpp_ext\n",
        "cd ../\n",
        "\n",
        "# install PyTorch Detection\n",
        "git clone https://github.com/facebookresearch/maskrcnn-benchmark.git\n",
        "cd maskrcnn-benchmark\n",
        "\n",
        "# the following will install the lib with\n",
        "# symbolic links, so that you can modify\n",
        "# the files if you want and won't need to\n",
        "# re-build it\n",
        "python setup.py build develop\n"
      ],
      "execution_count": 1,
      "outputs": [
        {
          "output_type": "stream",
          "text": [
            "Writing setup.sh\n"
          ],
          "name": "stdout"
        }
      ]
    },
    {
      "cell_type": "code",
      "metadata": {
        "id": "NYzsp3Ng3mOy",
        "colab_type": "code",
        "colab": {}
      },
      "source": [
        "!sh setup.sh"
      ],
      "execution_count": 0,
      "outputs": []
    },
    {
      "cell_type": "markdown",
      "metadata": {
        "id": "1uoPMGDl49Wk",
        "colab_type": "text"
      },
      "source": [
        "### Checking our Installation\n",
        "\n",
        "If a module not found error appears, restart the runtime. The libraries should be loaded after restarting"
      ]
    },
    {
      "cell_type": "code",
      "metadata": {
        "id": "3q-n76S95KA3",
        "colab_type": "code",
        "colab": {}
      },
      "source": [
        "import maskrcnn_benchmark"
      ],
      "execution_count": 0,
      "outputs": []
    },
    {
      "cell_type": "markdown",
      "metadata": {
        "id": "aiLvxXRpDbiq",
        "colab_type": "text"
      },
      "source": [
        "# Imports"
      ]
    },
    {
      "cell_type": "code",
      "metadata": {
        "id": "kLzesfGNX9O2",
        "colab_type": "code",
        "outputId": "62004ff6-534f-4181-ca2c-d166e34f97a9",
        "colab": {
          "base_uri": "https://localhost:8080/",
          "height": 34
        }
      },
      "source": [
        "import torch\n",
        "from torch import nn\n",
        "import torch.nn.functional as Fx\n",
        "import datetime\n",
        "\n",
        "# Set up custom environment before nearly anything else is imported\n",
        "# NOTE: this should be the first import (no not reorder)\n",
        "from maskrcnn_benchmark.utils.env import setup_environment  # noqa F401 isort:skip\n",
        "\n",
        "from maskrcnn_benchmark.data.build import *\n",
        "from maskrcnn_benchmark.structures.bounding_box import BoxList\n",
        "from maskrcnn_benchmark.structures.segmentation_mask import SegmentationMask\n",
        "from maskrcnn_benchmark.modeling.detector import build_detection_model\n",
        "from maskrcnn_benchmark.utils.checkpoint import DetectronCheckpointer\n",
        "from maskrcnn_benchmark.structures.image_list import to_image_list\n",
        "from maskrcnn_benchmark.modeling.roi_heads.mask_head.inference import Masker\n",
        "from maskrcnn_benchmark import layers as L\n",
        "from maskrcnn_benchmark.utils import cv2_util\n",
        "from maskrcnn_benchmark.utils.miscellaneous import mkdir\n",
        "from maskrcnn_benchmark.utils.logger import setup_logger\n",
        "from maskrcnn_benchmark.utils.comm import synchronize, get_rank\n",
        "from maskrcnn_benchmark.config import cfg\n",
        "from maskrcnn_benchmark.config import cfg\n",
        "from maskrcnn_benchmark.data import make_data_loader\n",
        "from maskrcnn_benchmark.solver import make_lr_scheduler\n",
        "from maskrcnn_benchmark.solver import make_optimizer\n",
        "from maskrcnn_benchmark.engine.inference import inference\n",
        "from maskrcnn_benchmark.engine.trainer import do_train\n",
        "from maskrcnn_benchmark.modeling.detector import build_detection_model\n",
        "from maskrcnn_benchmark.utils.checkpoint import DetectronCheckpointer\n",
        "from maskrcnn_benchmark.utils.collect_env import collect_env_info\n",
        "from maskrcnn_benchmark.utils.comm import synchronize, get_rank\n",
        "from maskrcnn_benchmark.utils.imports import import_file\n",
        "from maskrcnn_benchmark.data.datasets.evaluation import evaluate\n",
        "from maskrcnn_benchmark.utils.comm import is_main_process, get_world_size\n",
        "from maskrcnn_benchmark.utils.comm import all_gather\n",
        "from maskrcnn_benchmark.utils.timer import Timer, get_time_str\n",
        "from maskrcnn_benchmark.engine.inference import compute_on_dataset, _accumulate_predictions_from_multiple_gpus\n",
        "from maskrcnn_benchmark.data.datasets.evaluation.coco import coco_evaluation\n",
        "from maskrcnn_benchmark.modeling.utils import cat\n",
        "from maskrcnn_benchmark.structures.image_list import to_image_list\n",
        "\n",
        "from maskrcnn_benchmark.modeling.backbone import build_backbone\n",
        "from maskrcnn_benchmark.modeling.rpn.rpn import build_rpn\n",
        "from maskrcnn_benchmark.modeling.roi_heads.roi_heads import build_roi_heads\n",
        "from maskrcnn_benchmark.modeling.make_layers import make_conv3x3\n",
        "from maskrcnn_benchmark.structures.image_list import to_image_list\n",
        "from maskrcnn_benchmark.modeling.backbone import build_backbone\n",
        "from maskrcnn_benchmark.modeling.rpn.rpn import build_rpn\n",
        "from maskrcnn_benchmark.modeling.roi_heads.roi_heads import build_roi_heads\n",
        "\n",
        "import torch.distributed as dist\n",
        "\n",
        "from maskrcnn_benchmark.utils.comm import get_world_size\n",
        "from maskrcnn_benchmark.utils.metric_logger import MetricLogger\n",
        "\n",
        "\n",
        "from PIL import Image\n",
        "import json\n",
        "import logging\n",
        "import torch\n",
        "import numpy as np\n",
        "import skimage.draw as draw\n",
        "import tempfile\n",
        "from pycocotools.coco import COCO\n",
        "import os\n",
        "import sys\n",
        "import random\n",
        "import math\n",
        "import re\n",
        "import time\n",
        "import cv2\n",
        "import matplotlib\n",
        "import matplotlib.pyplot as plt\n",
        "from tqdm import tqdm\n",
        "\n",
        "# Copyright (c) Facebook, Inc. and its affiliates. All Rights Reserved.\n",
        "from torchvision import transforms as T\n",
        "from torchvision.transforms import functional as F\n",
        "from google.colab.patches import cv2_imshow\n",
        "\n",
        "    \n",
        "logger_dir = 'log'\n",
        "\n",
        "if logger_dir:\n",
        "    mkdir(logger_dir)\n",
        "\n",
        "logger = setup_logger(\"maskrcnn_benchmark\", logger_dir, get_rank())\n",
        "logger.info(\"Using {} GPUs\".format(1))\n"
      ],
      "execution_count": 1,
      "outputs": [
        {
          "output_type": "stream",
          "text": [
            "2019-07-12 03:39:26,768 maskrcnn_benchmark INFO: Using 1 GPUs\n"
          ],
          "name": "stdout"
        }
      ]
    },
    {
      "cell_type": "markdown",
      "metadata": {
        "id": "DvU-NYKJ3uzb",
        "colab_type": "text"
      },
      "source": [
        "# Loading Our Dataset\n",
        "\n",
        "To train a network using the MaskRCNN repo, we first need to define our dataset. The dataset needs to a class of type object and should extend 3 things. \n",
        "\n",
        "1. **__getitem__(self, idx)**: This function should return a PIL Image, a BoxList and the idx. The Boxlist is an abstraction for our bounding boxes, segmentation masks, class lables and also people keypoints. Please check ABSTRACTIONS.ms for more details on this. \n",
        "\n",
        "2. **__len__()**: returns the length of the dataset. \n",
        "\n",
        "3. **get_img_info(self, idx)**: Return a dict of img info with the fields \"height\" and \"width\" filled in with the idx's image's height and width.\n",
        "\n",
        "4. **self.coco**: Should be a variable that holds the COCO object for your annotations so that you can perform evaluations of your dataset. \n",
        "\n",
        "5. **self.id_to_img_map**: Is a dictionary that maps the ids to coco image ids. Almost in all cases just map the idxs to idxs. This is simply a requirement for the coco evaluation. \n",
        "\n",
        "6. **self.contiguous_category_id_to_json_id**: Another requirement for coco evaluation. It maps the categpry to json category id. Again, for almost all purposes category id and json id should be same. \n",
        "\n",
        "Given below is a sample fo a dataset. It is the Shape Dataset taken from the Matterport Mask RCNN Repo. One important detail is that the constructor if the dataset should have the variable transforms that is set inside the constructor. It should thgen be used inside **__get__item(idx)** as shown below."
      ]
    },
    {
      "cell_type": "markdown",
      "metadata": {
        "id": "xnr8tbDz7WjS",
        "colab_type": "text"
      },
      "source": [
        "## Helper Functions"
      ]
    },
    {
      "cell_type": "code",
      "metadata": {
        "id": "tb_5MERf7c_1",
        "colab_type": "code",
        "colab": {}
      },
      "source": [
        "# Helper Functions for the Shapes Dataset\n",
        "\n",
        "def non_max_suppression(boxes, scores, threshold):\n",
        "    \"\"\"Performs non-maximum suppression and returns indices of kept boxes.\n",
        "    boxes: [N, (y1, x1, y2, x2)]. Notice that (y2, x2) lays outside the box.\n",
        "    scores: 1-D array of box scores.\n",
        "    threshold: Float. IoU threshold to use for filtering.\n",
        "    \"\"\"\n",
        "    assert boxes.shape[0] > 0\n",
        "    if boxes.dtype.kind != \"f\":\n",
        "        boxes = boxes.astype(np.float32)\n",
        "\n",
        "    # Compute box areas\n",
        "    y1 = boxes[:, 0]\n",
        "    x1 = boxes[:, 1]\n",
        "    y2 = boxes[:, 2]\n",
        "    x2 = boxes[:, 3]\n",
        "    area = (y2 - y1) * (x2 - x1)\n",
        "\n",
        "    # Get indicies of boxes sorted by scores (highest first)\n",
        "    ixs = scores.argsort()[::-1]\n",
        "\n",
        "    pick = []\n",
        "    while len(ixs) > 0:\n",
        "        # Pick top box and add its index to the list\n",
        "        i = ixs[0]\n",
        "        pick.append(i)\n",
        "        # Compute IoU of the picked box with the rest\n",
        "        iou = compute_iou(boxes[i], boxes[ixs[1:]], area[i], area[ixs[1:]])\n",
        "        # Identify boxes with IoU over the threshold. This\n",
        "        # returns indices into ixs[1:], so add 1 to get\n",
        "        # indices into ixs.\n",
        "        remove_ixs = np.where(iou > threshold)[0] + 1\n",
        "        # Remove indices of the picked and overlapped boxes.\n",
        "        ixs = np.delete(ixs, remove_ixs)\n",
        "        ixs = np.delete(ixs, 0)\n",
        "    return np.array(pick, dtype=np.int32)\n",
        "\n",
        "def compute_iou(box, boxes, box_area, boxes_area):\n",
        "    \"\"\"Calculates IoU of the given box with the array of the given boxes.\n",
        "    box: 1D vector [y1, x1, y2, x2]\n",
        "    boxes: [boxes_count, (y1, x1, y2, x2)]\n",
        "    box_area: float. the area of 'box'\n",
        "    boxes_area: array of length boxes_count.\n",
        "    Note: the areas are passed in rather than calculated here for\n",
        "    efficiency. Calculate once in the caller to avoid duplicate work.\n",
        "    \"\"\"\n",
        "    # Calculate intersection areas\n",
        "    y1 = np.maximum(box[0], boxes[:, 0])\n",
        "    y2 = np.minimum(box[2], boxes[:, 2])\n",
        "    x1 = np.maximum(box[1], boxes[:, 1])\n",
        "    x2 = np.minimum(box[3], boxes[:, 3])\n",
        "    intersection = np.maximum(x2 - x1, 0) * np.maximum(y2 - y1, 0)\n",
        "    union = box_area + boxes_area[:] - intersection[:]\n",
        "    iou = intersection / union\n",
        "    return iou"
      ],
      "execution_count": 0,
      "outputs": []
    },
    {
      "cell_type": "markdown",
      "metadata": {
        "id": "5DC0K7tW7d-M",
        "colab_type": "text"
      },
      "source": [
        "## Dataset"
      ]
    },
    {
      "cell_type": "code",
      "metadata": {
        "id": "WhG_Tu9ELAsj",
        "colab_type": "code",
        "colab": {}
      },
      "source": [
        "class ShapeDataset(object):\n",
        "  \n",
        "  def __init__(self, num_examples, transforms=None):\n",
        "    \n",
        "    self.height = 128\n",
        "    self.width = 128\n",
        "    \n",
        "    self.num_examples = num_examples\n",
        "    self.transforms = transforms # IMPORTANT, DON'T MISS\n",
        "    self.image_info = []\n",
        "    self.logger = logging.getLogger(__name__)\n",
        "    \n",
        "    # Class Names: Note that the ids start fromm 1 not 0. This repo uses the 0 index for background\n",
        "    self.class_names = {\"square\": 1, \"circle\": 2, \"triangle\": 3}\n",
        "    \n",
        "    # Add images\n",
        "    # Generate random specifications of images (i.e. color and\n",
        "    # list of shapes sizes and locations). This is more compact than\n",
        "    # actual images. Images are generated on the fly in load_image().\n",
        "    for i in range(num_examples):\n",
        "        bg_color, shapes = self.random_image(self.height, self.width)\n",
        "        self.image_info.append({ \"path\":None,\n",
        "                       \"width\": self.width, \"height\": self.height,\n",
        "                       \"bg_color\": bg_color, \"shapes\": shapes\n",
        "                       })\n",
        "    \n",
        "    # Fills in the self.coco varibale for evaluation.\n",
        "    self.get_gt()\n",
        "    \n",
        "    # Variables needed for coco mAP evaluation\n",
        "    self.id_to_img_map = {}\n",
        "    for i, _ in enumerate(self.image_info):\n",
        "      self.id_to_img_map[i] = i\n",
        "\n",
        "    self.contiguous_category_id_to_json_id = { 0:0 ,1:1, 2:2, 3:3 }\n",
        "    \n",
        "\n",
        "  def random_shape(self, height, width):\n",
        "    \"\"\"Generates specifications of a random shape that lies within\n",
        "    the given height and width boundaries.\n",
        "    Returns a tuple of three valus:\n",
        "    * The shape name (square, circle, ...)\n",
        "    * Shape color: a tuple of 3 values, RGB.\n",
        "    * Shape dimensions: A tuple of values that define the shape size\n",
        "                        and location. Differs per shape type.\n",
        "    \"\"\"\n",
        "    # Shape\n",
        "    shape = random.choice([\"square\", \"circle\", \"triangle\"])\n",
        "    # Color\n",
        "    color = tuple([random.randint(0, 255) for _ in range(3)])\n",
        "    # Center x, y\n",
        "    buffer = 20\n",
        "    y = random.randint(buffer, height - buffer - 1)\n",
        "    x = random.randint(buffer, width - buffer - 1)\n",
        "    # Size\n",
        "    s = random.randint(buffer, height//4)\n",
        "    return shape, color, (x, y, s)\n",
        "\n",
        "  def random_image(self, height, width):\n",
        "      \"\"\"Creates random specifications of an image with multiple shapes.\n",
        "      Returns the background color of the image and a list of shape\n",
        "      specifications that can be used to draw the image.\n",
        "      \"\"\"\n",
        "      # Pick random background color\n",
        "      bg_color = np.array([random.randint(0, 255) for _ in range(3)])\n",
        "      # Generate a few random shapes and record their\n",
        "      # bounding boxes\n",
        "      shapes = []\n",
        "      boxes = []\n",
        "      N = random.randint(1, 4)\n",
        "      labels = {}\n",
        "      for _ in range(N):\n",
        "          shape, color, dims = self.random_shape(height, width)\n",
        "          shapes.append((shape, color, dims))\n",
        "          x, y, s = dims\n",
        "          boxes.append([y-s, x-s, y+s, x+s])\n",
        "\n",
        "      # Apply non-max suppression wit 0.3 threshold to avoid\n",
        "      # shapes covering each other\n",
        "      keep_ixs = non_max_suppression(np.array(boxes), np.arange(N), 0.3)\n",
        "      shapes = [s for i, s in enumerate(shapes) if i in keep_ixs]\n",
        "      \n",
        "      return bg_color, shapes\n",
        "  \n",
        "  \n",
        "  def draw_shape(self, image, shape, dims, color):\n",
        "      \"\"\"Draws a shape from the given specs.\"\"\"\n",
        "      # Get the center x, y and the size s\n",
        "      x, y, s = dims\n",
        "      if shape == 'square':\n",
        "          cv2.rectangle(image, (x-s, y-s), (x+s, y+s), color, -1)\n",
        "      elif shape == \"circle\":\n",
        "          cv2.circle(image, (x, y), s, color, -1)\n",
        "      elif shape == \"triangle\":\n",
        "          points = np.array([[(x, y-s),\n",
        "                              (x-s/math.sin(math.radians(60)), y+s),\n",
        "                              (x+s/math.sin(math.radians(60)), y+s),\n",
        "                              ]], dtype=np.int32)\n",
        "          cv2.fillPoly(image, points, color)\n",
        "      return image, [ x-s, y-s, x+s, y+s]\n",
        "\n",
        "\n",
        "  def load_mask(self, image_id):\n",
        "    \"\"\"\n",
        "    Generates instance masks for shapes of the given image ID.\n",
        "    \"\"\"\n",
        "    info = self.image_info[image_id]\n",
        "    shapes = info['shapes']\n",
        "    count = len(shapes)\n",
        "    mask = np.zeros([info['height'], info['width'], count], dtype=np.uint8)\n",
        "    boxes = []\n",
        "    \n",
        "    for i, (shape, _, dims) in enumerate(info['shapes']):\n",
        "        mask[:, :, i:i+1], box = self.draw_shape( mask[:, :, i:i+1].copy(),\n",
        "                                            shape, dims, 1)\n",
        "        boxes.append(box)\n",
        "    \n",
        "    \n",
        "    # Handle occlusions\n",
        "    occlusion = np.logical_not(mask[:, :, -1]).astype(np.uint8)\n",
        "    for i in range(count-2, -1, -1):\n",
        "        mask[:, :, i] = mask[:, :, i] * occlusion\n",
        "        occlusion = np.logical_and(occlusion, np.logical_not(mask[:, :, i]))\n",
        "    \n",
        "    segmentation_mask = mask.copy()\n",
        "    segmentation_mask = np.expand_dims(np.sum(segmentation_mask, axis=2), axis=2)\n",
        "    \n",
        "    # Map class names to class IDs.\n",
        "    class_ids = np.array([self.class_names[s[0]] for s in shapes])\n",
        "    return segmentation_mask.astype(np.uint8), mask.astype(np.uint8), class_ids.astype(np.int32), boxes\n",
        "  \n",
        "  def load_image(self, image_id):\n",
        "    \"\"\"Generate an image from the specs of the given image ID.\n",
        "    Typically this function loads the image from a file, but\n",
        "    in this case it generates the image on the fly from the\n",
        "    specs in image_info.\n",
        "    \"\"\"\n",
        "    info = self.image_info[image_id]\n",
        "    bg_color = np.array(info['bg_color']).reshape([1, 1, 3])\n",
        "    image = np.ones([info['height'], info['width'], 3], dtype=np.uint8)\n",
        "    image = image * bg_color.astype(np.uint8)\n",
        "    for shape, color, dims in info['shapes']:\n",
        "        image, _ = self.draw_shape(image, shape, dims, color)\n",
        "    return image\n",
        "      \n",
        "  def __getitem__(self, idx):\n",
        "    \n",
        "    \"\"\"Generate an image from the specs of the given image ID.\n",
        "    Typically this function loads the image from a file, but\n",
        "    in this case it generates the image on the fly from the\n",
        "    specs in image_info.\n",
        "    \"\"\"\n",
        "    image = Image.fromarray(self.load_image(idx))\n",
        "    segmentation_mask, masks, labels, boxes = self.load_mask(idx)\n",
        "    \n",
        "    # create a BoxList from the boxes\n",
        "    boxlist = BoxList(boxes, image.size, mode=\"xyxy\")\n",
        "\n",
        "    # add the labels to the boxlist\n",
        "    boxlist.add_field(\"labels\", torch.tensor(labels))\n",
        "\n",
        "    # Add masks to the boxlist\n",
        "    masks = np.transpose(masks, (2,0,1))\n",
        "    masks = SegmentationMask(torch.tensor(masks), image.size, \"mask\")\n",
        "    boxlist.add_field(\"masks\", masks)\n",
        "    \n",
        "    # Add semantic segmentation masks to the boxlist for panoptic segmentation\n",
        "    segmentation_mask = np.transpose(segmentation_mask, (2,0,1))\n",
        "    seg_masks = SegmentationMask(torch.tensor(segmentation_mask), image.size, \"mask\")\n",
        "    boxlist.add_field(\"seg_masks\", seg_masks)\n",
        "    \n",
        "    # Important line! dont forget to add this\n",
        "    if self.transforms:\n",
        "        image, boxlist = self.transforms(image, boxlist)\n",
        "\n",
        "    # return the image, the boxlist and the idx in your dataset\n",
        "    return image, boxlist, idx\n",
        "  \n",
        "  \n",
        "  def __len__(self):\n",
        "      return self.num_examples\n",
        "    \n",
        "\n",
        "  def get_img_info(self, idx):\n",
        "      # get img_height and img_width. This is used if\n",
        "      # we want to split the batches according to the aspect ratio\n",
        "      # of the image, as it can be more efficient than loading the\n",
        "      # image from disk\n",
        "\n",
        "      return {\"height\": self.height, \"width\": self.width}\n",
        "    \n",
        "  def get_gt(self):\n",
        "      # Prepares dataset for coco eval\n",
        "      \n",
        "      \n",
        "      images = []\n",
        "      annotations = []\n",
        "      results = []\n",
        "      \n",
        "      # Define categories\n",
        "      categories = [ {\"id\": 1, \"name\": \"square\"}, {\"id\": 2, \"name\": \"circle\"}, {\"id\": 3, \"name\": \"triangle\"}]\n",
        "\n",
        "\n",
        "      i = 1\n",
        "      ann_id = 0\n",
        "\n",
        "      for img_id, d in enumerate(self.image_info):\n",
        "\n",
        "        images.append( {\"id\": img_id, 'height': self.height, 'width': self.width } )\n",
        "\n",
        "        for (shape, color, dims) in d['shapes']:\n",
        "          \n",
        "          if shape == \"square\":\n",
        "            category_id = 1\n",
        "          elif shape == \"circle\":\n",
        "            category_id = 2\n",
        "          elif shape == \"triangle\":\n",
        "            category_id = 3\n",
        "          \n",
        "          x, y, s = dims\n",
        "          bbox = [ x - s, y - s, x+s, y +s ] \n",
        "          area = (bbox[0] - bbox[2]) * (bbox[1] - bbox[3])\n",
        "          \n",
        "          # Format for COCOC\n",
        "          annotations.append( {\n",
        "              \"id\": int(ann_id),\n",
        "              \"category_id\": category_id,\n",
        "              \"image_id\": int(img_id),\n",
        "              \"area\" : float(area),\n",
        "              \"bbox\": [ float(bbox[0]), float(bbox[1]), float(bbox[2]) - float(bbox[0]) + 1, float(bbox[3]) - float(bbox[1]) + 1 ], # note that the bboxes are in x, y , width, height format\n",
        "              \"iscrowd\" : 0\n",
        "          } )\n",
        "\n",
        "          ann_id += 1\n",
        "\n",
        "      # Save ground truth file\n",
        "      \n",
        "      with open(\"tmp_gt.json\", \"w\") as f:\n",
        "        json.dump({\"images\": images, \"annotations\": annotations, \"categories\": categories }, f)\n",
        "\n",
        "      # Load gt for coco eval\n",
        "      self.coco = COCO(\"tmp_gt.json\") \n",
        "      "
      ],
      "execution_count": 0,
      "outputs": []
    },
    {
      "cell_type": "markdown",
      "metadata": {
        "id": "2hpTvuSp830x",
        "colab_type": "text"
      },
      "source": [
        "## Visualise Dataset"
      ]
    },
    {
      "cell_type": "markdown",
      "metadata": {
        "id": "BI2ncK7kATEh",
        "colab_type": "text"
      },
      "source": [
        "### Load"
      ]
    },
    {
      "cell_type": "code",
      "metadata": {
        "id": "6nsO_MRUbBpk",
        "colab_type": "code",
        "outputId": "1515ea47-d4bb-4014-e1d3-46b80d221f18",
        "colab": {
          "base_uri": "https://localhost:8080/",
          "height": 87
        }
      },
      "source": [
        "train_dt = ShapeDataset(100)\n",
        "im, boxlist, idx = train_dt[0]"
      ],
      "execution_count": 0,
      "outputs": [
        {
          "output_type": "stream",
          "text": [
            "loading annotations into memory...\n",
            "Done (t=0.00s)\n",
            "creating index...\n",
            "index created!\n"
          ],
          "name": "stdout"
        }
      ]
    },
    {
      "cell_type": "markdown",
      "metadata": {
        "id": "F9njOSX0AU5-",
        "colab_type": "text"
      },
      "source": [
        "### Display some sample Images"
      ]
    },
    {
      "cell_type": "code",
      "metadata": {
        "id": "nMXB9sAW994F",
        "colab_type": "code",
        "outputId": "9687b5a9-e67f-48c9-b265-a5597c85358d",
        "colab": {
          "base_uri": "https://localhost:8080/",
          "height": 485
        }
      },
      "source": [
        "rows = 2\n",
        "cols = 2\n",
        "fig = plt.figure(figsize=(8, 8))\n",
        "for i in range(1, rows*cols+1):\n",
        "  im, boxlist, idx = train_dt[i]\n",
        "  fig.add_subplot(rows, cols, i)\n",
        "  plt.imshow(im)\n",
        "plt.show()\n",
        "  "
      ],
      "execution_count": 0,
      "outputs": [
        {
          "output_type": "display_data",
          "data": {
            "image/png": "[encoded data removed]",
            "text/plain": [
              "<Figure size 576x576 with 4 Axes>"
            ]
          },
          "metadata": {
            "tags": []
          }
        }
      ]
    },
    {
      "cell_type": "markdown",
      "metadata": {
        "id": "ORQXaa6k30yD",
        "colab_type": "text"
      },
      "source": [
        "# Training a Model\n",
        "\n",
        "Now we move on to training our very own model. Here we will be finetuning the base of a Mask RCNN, modifying it to support Semantic Segmentation and change the number of classes to support this dataset. To do this we need\n",
        "\n",
        "1. A base model that has the same amount of output classes as our dataset. In this case, we have need for only 3 classes instead of COCO's 80. Hence , we first need to do some model trimming. \n",
        "\n",
        "2. Second, we need to build a Panoptic FPN model. That means attaching the semantic segmentation branch to the FPN.\n",
        "\n",
        "3. FInally, we write a loss function to train the semantic segmentation head.\n",
        "\n",
        "4. Lastly, set to train !"
      ]
    },
    {
      "cell_type": "markdown",
      "metadata": {
        "id": "SVaNqbpiAzwx",
        "colab_type": "text"
      },
      "source": [
        "## Model Trimming"
      ]
    },
    {
      "cell_type": "markdown",
      "metadata": {
        "id": "hbzY16ocEdrg",
        "colab_type": "text"
      },
      "source": [
        "### Helper Functions for Visualising Detections"
      ]
    },
    {
      "cell_type": "code",
      "metadata": {
        "id": "yk5a6RpsEdIt",
        "colab_type": "code",
        "colab": {}
      },
      "source": [
        "class Resize(object):\n",
        "    def __init__(self, min_size, max_size):\n",
        "        self.min_size = min_size\n",
        "        self.max_size = max_size\n",
        "\n",
        "    # modified from torchvision to add support for max size\n",
        "    def get_size(self, image_size):\n",
        "        w, h = image_size\n",
        "        size = self.min_size\n",
        "        max_size = self.max_size\n",
        "        if max_size is not None:\n",
        "            min_original_size = float(min((w, h)))\n",
        "            max_original_size = float(max((w, h)))\n",
        "            if max_original_size / min_original_size * size > max_size:\n",
        "                size = int(round(max_size * min_original_size / max_original_size))\n",
        "\n",
        "        if (w <= h and w == size) or (h <= w and h == size):\n",
        "            return (h, w)\n",
        "\n",
        "        if w < h:\n",
        "            ow = size\n",
        "            oh = int(size * h / w)\n",
        "        else:\n",
        "            oh = size\n",
        "            ow = int(size * w / h)\n",
        "\n",
        "        return (oh, ow)\n",
        "\n",
        "    def __call__(self, image):\n",
        "        size = self.get_size(image.size)\n",
        "        image = F.resize(image, size)\n",
        "        return image\n",
        "      \n",
        "      \n",
        "class COCODemo(object):\n",
        "  \n",
        "    def __init__(\n",
        "        self,\n",
        "        cfg,\n",
        "        confidence_threshold=0.7,\n",
        "        show_mask_heatmaps=False,\n",
        "        masks_per_dim=2,\n",
        "        min_image_size=224,\n",
        "        convert_model=False\n",
        "    ):\n",
        "        self.cfg = cfg.clone()\n",
        "      \n",
        "        self.model = build_detection_network(cfg)\n",
        "        self.training = False\n",
        "\n",
        "        self.model.eval()\n",
        "        self.device = torch.device(cfg.MODEL.DEVICE)\n",
        "        self.model.to(self.device)\n",
        "        self.min_image_size = min_image_size\n",
        "\n",
        "        save_dir = cfg.OUTPUT_DIR\n",
        "        checkpointer = DetectronCheckpointer(cfg, self.model, save_dir=save_dir)\n",
        "        _ = checkpointer.load(cfg.MODEL.WEIGHT)\n",
        "\n",
        "        self.transforms = self.build_transform()\n",
        "\n",
        "        mask_threshold = -1 if show_mask_heatmaps else 0.5\n",
        "        self.masker = Masker(threshold=mask_threshold, padding=1)\n",
        "\n",
        "        # used to make colors for each class\n",
        "        self.palette = torch.tensor([2 ** 25 - 1, 2 ** 15 - 1, 2 ** 21 - 1])\n",
        "\n",
        "        self.cpu_device = torch.device(\"cpu\")\n",
        "        self.confidence_threshold = confidence_threshold\n",
        "        self.show_mask_heatmaps = show_mask_heatmaps\n",
        "        self.masks_per_dim = masks_per_dim\n",
        "\n",
        "    def build_transform(self):\n",
        "        \"\"\"\n",
        "        Creates a basic transformation that was used to train the models\n",
        "        \"\"\"\n",
        "        cfg = self.cfg\n",
        "\n",
        "        # we are loading images with OpenCV, so we don't need to convert them\n",
        "        # to BGR, they are already! So all we need to do is to normalize\n",
        "        # by 255 if we want to convert to BGR255 format, or flip the channels\n",
        "        # if we want it to be in RGB in [0-1] range.\n",
        "        if cfg.INPUT.TO_BGR255:\n",
        "            to_bgr_transform = T.Lambda(lambda x: x * 255)\n",
        "        else:\n",
        "            to_bgr_transform = T.Lambda(lambda x: x[[2, 1, 0]])\n",
        "\n",
        "        normalize_transform = T.Normalize(\n",
        "            mean=cfg.INPUT.PIXEL_MEAN, std=cfg.INPUT.PIXEL_STD\n",
        "        )\n",
        "        min_size = cfg.INPUT.MIN_SIZE_TEST\n",
        "        max_size = cfg.INPUT.MAX_SIZE_TEST\n",
        "        transform = T.Compose(\n",
        "            [\n",
        "                T.ToPILImage(),\n",
        "                Resize(min_size, max_size),\n",
        "                T.ToTensor(),\n",
        "                to_bgr_transform,\n",
        "                normalize_transform,\n",
        "            ]\n",
        "        )\n",
        "        return transform\n",
        "\n",
        "    def run_on_opencv_image(self, image, panoptic=False, objDet=False, semantic=False):\n",
        "        \"\"\"\n",
        "        Arguments:\n",
        "            image (np.ndarray): an image as returned by OpenCV\n",
        "        Returns:\n",
        "            prediction (BoxList): the detected objects. Additional information\n",
        "                of the detection properties can be found in the fields of\n",
        "                the BoxList via `prediction.fields()`\n",
        "        \"\"\"\n",
        "        predictions = self.compute_prediction(image)\n",
        "        top_predictions = self.select_top_predictions(predictions)\n",
        "        \n",
        "        \n",
        "        result = image.copy()\n",
        "        \n",
        "        if self.show_mask_heatmaps:\n",
        "            return self.create_mask_montage(result, top_predictions)\n",
        "        result = self.overlay_boxes(result, top_predictions)\n",
        "        if self.cfg.MODEL.MASK_ON:\n",
        "            result = self.overlay_mask(result, top_predictions)\n",
        "        if self.cfg.MODEL.KEYPOINT_ON:\n",
        "            result = self.overlay_keypoints(result, top_predictions)\n",
        "        result = self.overlay_class_names(result, top_predictions)\n",
        "\n",
        "        return result\n",
        "\n",
        "    def compute_prediction(self, original_image):\n",
        "        \"\"\"\n",
        "        Arguments:\n",
        "            original_image (np.ndarray): an image as returned by OpenCV\n",
        "        Returns:\n",
        "            prediction (BoxList): the detected objects. Additional information\n",
        "                of the detection properties can be found in the fields of\n",
        "                the BoxList via `prediction.fields()`\n",
        "        \"\"\"\n",
        "        # apply pre-processing to image\n",
        "        image = self.transforms(original_image)\n",
        "        # convert to an ImageList, padded so that it is divisible by\n",
        "        # cfg.DATALOADER.SIZE_DIVISIBILITY\n",
        "        image_list = to_image_list(image, self.cfg.DATALOADER.SIZE_DIVISIBILITY)\n",
        "        image_list = image_list.to(self.device)\n",
        "        # compute predictions\n",
        "        with torch.no_grad():\n",
        "            predictions = self.model(image_list)\n",
        "        predictions = [o.to(self.cpu_device) for o in predictions]\n",
        "\n",
        "        # always single image is passed at a time\n",
        "        prediction = predictions[0]\n",
        "\n",
        "        # reshape prediction (a BoxList) into the original image size\n",
        "        height, width = original_image.shape[:-1]\n",
        "        prediction = prediction.resize((width, height))\n",
        "\n",
        "        if prediction.has_field(\"mask\"):\n",
        "            # if we have masks, paste the masks in the right position\n",
        "            # in the image, as defined by the bounding boxes\n",
        "            masks = prediction.get_field(\"mask\")\n",
        "            # always single image is passed at a time\n",
        "            masks = self.masker([masks], [prediction])[0]\n",
        "            prediction.add_field(\"mask\", masks)\n",
        "        return prediction\n",
        "\n",
        "    def select_top_predictions(self, predictions):\n",
        "        \"\"\"\n",
        "        Select only predictions which have a `score` > self.confidence_threshold,\n",
        "        and returns the predictions in descending order of score\n",
        "        Arguments:\n",
        "            predictions (BoxList): the result of the computation by the model.\n",
        "                It should contain the field `scores`.\n",
        "        Returns:\n",
        "            prediction (BoxList): the detected objects. Additional information\n",
        "                of the detection properties can be found in the fields of\n",
        "                the BoxList via `prediction.fields()`\n",
        "        \"\"\"\n",
        "        scores = predictions.get_field(\"scores\")\n",
        "        keep = torch.nonzero(scores > self.confidence_threshold).squeeze(1)\n",
        "        predictions = predictions[keep]\n",
        "        scores = predictions.get_field(\"scores\")\n",
        "        _, idx = scores.sort(0, descending=True)\n",
        "        return predictions[idx]\n",
        "\n",
        "    def compute_colors_for_labels(self, labels):\n",
        "        \"\"\"\n",
        "        Simple function that adds fixed colors depending on the class\n",
        "        \"\"\"\n",
        "        colors = labels[:, None] * self.palette\n",
        "        colors = (colors % 255).numpy().astype(\"uint8\")\n",
        "        return colors\n",
        "\n",
        "    def overlay_boxes(self, image, predictions):\n",
        "        \"\"\"\n",
        "        Adds the predicted boxes on top of the image\n",
        "        Arguments:\n",
        "            image (np.ndarray): an image as returned by OpenCV\n",
        "            predictions (BoxList): the result of the computation by the model.\n",
        "                It should contain the field `labels`.\n",
        "        \"\"\"\n",
        "        labels = predictions.get_field(\"labels\")\n",
        "        boxes = predictions.bbox\n",
        "\n",
        "        colors = self.compute_colors_for_labels(labels).tolist()\n",
        "\n",
        "        for box, color in zip(boxes, colors):\n",
        "            box = box.to(torch.int64)\n",
        "            top_left, bottom_right = box[:2].tolist(), box[2:].tolist()\n",
        "            image = cv2.rectangle(\n",
        "                image, tuple(top_left), tuple(bottom_right), tuple(color), 1\n",
        "            )\n",
        "\n",
        "        return image\n",
        "\n",
        "    def overlay_mask(self, image, predictions):\n",
        "        \"\"\"\n",
        "        Adds the instances contours for each predicted object.\n",
        "        Each label has a different color.\n",
        "        Arguments:\n",
        "            image (np.ndarray): an image as returned by OpenCV\n",
        "            predictions (BoxList): the result of the computation by the model.\n",
        "                It should contain the field `mask` and `labels`.\n",
        "        \"\"\"\n",
        "        masks = predictions.get_field(\"mask\").numpy()\n",
        "        labels = predictions.get_field(\"labels\")\n",
        "\n",
        "        colors = self.compute_colors_for_labels(labels).tolist()\n",
        "\n",
        "        for mask, color in zip(masks, colors):\n",
        "            thresh = mask[0, :, :, None]\n",
        "            contours, hierarchy = cv2_util.findContours(\n",
        "                thresh, cv2.RETR_TREE, cv2.CHAIN_APPROX_SIMPLE\n",
        "            )\n",
        "            image = cv2.drawContours(image, contours, -1, color, 3)\n",
        "\n",
        "        composite = image\n",
        "\n",
        "        return composite\n",
        "\n",
        "    def overlay_keypoints(self, image, predictions):\n",
        "        keypoints = predictions.get_field(\"keypoints\")\n",
        "        kps = keypoints.keypoints\n",
        "        scores = keypoints.get_field(\"logits\")\n",
        "        kps = torch.cat((kps[:, :, 0:2], scores[:, :, None]), dim=2).numpy()\n",
        "        for region in kps:\n",
        "            image = vis_keypoints(image, region.transpose((1, 0)))\n",
        "        return image\n",
        "\n",
        "    def create_mask_montage(self, image, predictions):\n",
        "        \"\"\"\n",
        "        Create a montage showing the probability heatmaps for each one one of the\n",
        "        detected objects\n",
        "        Arguments:\n",
        "            image (np.ndarray): an image as returned by OpenCV\n",
        "            predictions (BoxList): the result of the computation by the model.\n",
        "                It should contain the field `mask`.\n",
        "        \"\"\"\n",
        "        masks = predictions.get_field(\"mask\")\n",
        "        masks_per_dim = self.masks_per_dim\n",
        "        masks = L.interpolate(\n",
        "            masks.float(), scale_factor=1 / masks_per_dim\n",
        "        ).byte()\n",
        "        height, width = masks.shape[-2:]\n",
        "        max_masks = masks_per_dim ** 2\n",
        "        masks = masks[:max_masks]\n",
        "        # handle case where we have less detections than max_masks\n",
        "        if len(masks) < max_masks:\n",
        "            masks_padded = torch.zeros(max_masks, 1, height, width, dtype=torch.uint8)\n",
        "            masks_padded[: len(masks)] = masks\n",
        "            masks = masks_padded\n",
        "        masks = masks.reshape(masks_per_dim, masks_per_dim, height, width)\n",
        "        result = torch.zeros(\n",
        "            (masks_per_dim * height, masks_per_dim * width), dtype=torch.uint8\n",
        "        )\n",
        "        for y in range(masks_per_dim):\n",
        "            start_y = y * height\n",
        "            end_y = (y + 1) * height\n",
        "            for x in range(masks_per_dim):\n",
        "                start_x = x * width\n",
        "                end_x = (x + 1) * width\n",
        "                result[start_y:end_y, start_x:end_x] = masks[y, x]\n",
        "        return cv2.applyColorMap(result.numpy(), cv2.COLORMAP_JET)\n",
        "\n",
        "    def overlay_class_names(self, image, predictions):\n",
        "        \"\"\"\n",
        "        Adds detected class names and scores in the positions defined by the\n",
        "        top-left corner of the predicted bounding box\n",
        "        Arguments:\n",
        "            image (np.ndarray): an image as returned by OpenCV\n",
        "            predictions (BoxList): the result of the computation by the model.\n",
        "                It should contain the field `scores` and `labels`.\n",
        "        \"\"\"\n",
        "        scores = predictions.get_field(\"scores\").tolist()\n",
        "        labels = predictions.get_field(\"labels\").tolist()\n",
        "        labels = [self.CATEGORIES[i] for i in labels]\n",
        "        boxes = predictions.bbox\n",
        "\n",
        "        template = \"{}: {:.2f}\"\n",
        "        for box, score, label in zip(boxes, scores, labels):\n",
        "            x, y = box[:2]\n",
        "            s = template.format(label, score)\n",
        "            cv2.putText(\n",
        "                image, s, (x, y), cv2.FONT_HERSHEY_SIMPLEX, .5, (255, 255, 255), 1\n",
        "            )\n",
        "\n",
        "        return image\n",
        "\n",
        "import numpy as np\n",
        "import matplotlib.pyplot as plt\n",
        "from maskrcnn_benchmark.structures.keypoint import PersonKeypoints\n",
        "\n",
        "def vis_keypoints(img, kps, kp_thresh=2, alpha=0.7):\n",
        "    \"\"\"Visualizes keypoints (adapted from vis_one_image).\n",
        "    kps has shape (4, #keypoints) where 4 rows are (x, y, logit, prob).\n",
        "    \"\"\"\n",
        "    dataset_keypoints = PersonKeypoints.NAMES\n",
        "    kp_lines = PersonKeypoints.CONNECTIONS\n",
        "\n",
        "    # Convert from plt 0-1 RGBA colors to 0-255 BGR colors for opencv.\n",
        "    cmap = plt.get_cmap('rainbow')\n",
        "    colors = [cmap(i) for i in np.linspace(0, 1, len(kp_lines) + 2)]\n",
        "    colors = [(c[2] * 255, c[1] * 255, c[0] * 255) for c in colors]\n",
        "\n",
        "    # Perform the drawing on a copy of the image, to allow for blending.\n",
        "    kp_mask = np.copy(img)\n",
        "\n",
        "    # Draw mid shoulder / mid hip first for better visualization.\n",
        "    mid_shoulder = (\n",
        "        kps[:2, dataset_keypoints.index('right_shoulder')] +\n",
        "        kps[:2, dataset_keypoints.index('left_shoulder')]) / 2.0\n",
        "    sc_mid_shoulder = np.minimum(\n",
        "        kps[2, dataset_keypoints.index('right_shoulder')],\n",
        "        kps[2, dataset_keypoints.index('left_shoulder')])\n",
        "    mid_hip = (\n",
        "        kps[:2, dataset_keypoints.index('right_hip')] +\n",
        "        kps[:2, dataset_keypoints.index('left_hip')]) / 2.0\n",
        "    sc_mid_hip = np.minimum(\n",
        "        kps[2, dataset_keypoints.index('right_hip')],\n",
        "        kps[2, dataset_keypoints.index('left_hip')])\n",
        "    nose_idx = dataset_keypoints.index('nose')\n",
        "    if sc_mid_shoulder > kp_thresh and kps[2, nose_idx] > kp_thresh:\n",
        "        cv2.line(\n",
        "            kp_mask, tuple(mid_shoulder), tuple(kps[:2, nose_idx]),\n",
        "            color=colors[len(kp_lines)], thickness=2, lineType=cv2.LINE_AA)\n",
        "    if sc_mid_shoulder > kp_thresh and sc_mid_hip > kp_thresh:\n",
        "        cv2.line(\n",
        "            kp_mask, tuple(mid_shoulder), tuple(mid_hip),\n",
        "            color=colors[len(kp_lines) + 1], thickness=2, lineType=cv2.LINE_AA)\n",
        "\n",
        "    # Draw the keypoints.\n",
        "    for l in range(len(kp_lines)):\n",
        "        i1 = kp_lines[l][0]\n",
        "        i2 = kp_lines[l][1]\n",
        "        p1 = kps[0, i1], kps[1, i1]\n",
        "        p2 = kps[0, i2], kps[1, i2]\n",
        "        if kps[2, i1] > kp_thresh and kps[2, i2] > kp_thresh:\n",
        "            cv2.line(\n",
        "                kp_mask, p1, p2,\n",
        "                color=colors[l], thickness=2, lineType=cv2.LINE_AA)\n",
        "        if kps[2, i1] > kp_thresh:\n",
        "            cv2.circle(\n",
        "                kp_mask, p1,\n",
        "                radius=3, color=colors[l], thickness=-1, lineType=cv2.LINE_AA)\n",
        "        if kps[2, i2] > kp_thresh:\n",
        "            cv2.circle(\n",
        "                kp_mask, p2,\n",
        "                radius=3, color=colors[l], thickness=-1, lineType=cv2.LINE_AA)\n",
        "\n",
        "    # Blend the keypoints.\n",
        "    return cv2.addWeighted(img, 1.0 - alpha, kp_mask, alpha, 0)"
      ],
      "execution_count": 0,
      "outputs": []
    },
    {
      "cell_type": "markdown",
      "metadata": {
        "id": "If8z4OZfDHmC",
        "colab_type": "text"
      },
      "source": [
        "### Base Model Config\n",
        "\n",
        "This is the base model that we will finetune from. First we need to replace the bounding box heads and mask heads to make it compatible with our Shapes Dataset."
      ]
    },
    {
      "cell_type": "code",
      "metadata": {
        "id": "wM0coO44ClbV",
        "colab_type": "code",
        "outputId": "f1085b00-8428-40e1-c040-e9fa451afaa2",
        "colab": {
          "base_uri": "https://localhost:8080/",
          "height": 54
        }
      },
      "source": [
        "%%writefile base_config.yaml\n",
        "MODEL:\n",
        "  META_ARCHITECTURE: \"GeneralizedRCNN\"\n",
        "  WEIGHT: \"catalog://Caffe2Detectron/COCO/35858933/e2e_mask_rcnn_R-50-FPN_1x\"\n",
        "  BACKBONE:\n",
        "    CONV_BODY: \"R-50-FPN\"\n",
        "  RESNETS:\n",
        "    BACKBONE_OUT_CHANNELS: 256\n",
        "  RPN:\n",
        "    USE_FPN: True\n",
        "    ANCHOR_STRIDE: (4, 8, 16, 32, 64)\n",
        "    PRE_NMS_TOP_N_TRAIN: 2000\n",
        "    PRE_NMS_TOP_N_TEST: 1000\n",
        "    POST_NMS_TOP_N_TEST: 1000\n",
        "    FPN_POST_NMS_TOP_N_TEST: 1000\n",
        "  ROI_HEADS:\n",
        "    USE_FPN: True\n",
        "  ROI_BOX_HEAD:\n",
        "    POOLER_RESOLUTION: 7\n",
        "    POOLER_SCALES: (0.25, 0.125, 0.0625, 0.03125)\n",
        "    POOLER_SAMPLING_RATIO: 2\n",
        "    FEATURE_EXTRACTOR: \"FPN2MLPFeatureExtractor\"\n",
        "    PREDICTOR: \"FPNPredictor\"\n",
        "  ROI_MASK_HEAD:\n",
        "    POOLER_SCALES: (0.25, 0.125, 0.0625, 0.03125)\n",
        "    FEATURE_EXTRACTOR: \"MaskRCNNFPNFeatureExtractor\"\n",
        "    PREDICTOR: \"MaskRCNNC4Predictor\"\n",
        "    POOLER_RESOLUTION: 14\n",
        "    POOLER_SAMPLING_RATIO: 2\n",
        "    RESOLUTION: 28\n",
        "    SHARE_BOX_FEATURE_EXTRACTOR: False\n",
        "  MASK_ON: True\n",
        "DATALOADER:\n",
        "  SIZE_DIVISIBILITY: 32"
      ],
      "execution_count": 5,
      "outputs": [
        {
          "output_type": "stream",
          "text": [
            "Overwriting base_config.yaml\n"
          ],
          "name": "stdout"
        }
      ]
    },
    {
      "cell_type": "markdown",
      "metadata": {
        "id": "mOo-0LGFEAmc",
        "colab_type": "text"
      },
      "source": [
        "### Pretrained weight removal\n",
        "\n",
        "Here, the pretrained weights of bbox, mask and class predictions are removed. This is done so that we can make the model shapes dataset compatible i.e predict 3 classes instead of Coco's 81 classes."
      ]
    },
    {
      "cell_type": "code",
      "metadata": {
        "id": "ISFsxBxBDZcQ",
        "colab_type": "code",
        "colab": {}
      },
      "source": [
        "def removekey(d, listofkeys):\n",
        "  r = dict(d)\n",
        "  for key in listofkeys:\n",
        "      print('key: {} is removed'.format(key))\n",
        "      r.pop(key)\n",
        "  return r\n",
        " \n",
        "\n",
        "config_file = \"base_config.yaml\"\n",
        "\n",
        "# update the config options with the config file\n",
        "cfg.merge_from_file(config_file)\n",
        "\n",
        "\n",
        "# Add these for printing class names over your predictions.\n",
        "COCODemo.CATEGORIES = [\n",
        "    \"__background\",\n",
        "    \"square\",\n",
        "    \"circle\",\n",
        "    \"triangle\"\n",
        "]\n",
        "\n",
        "demo = COCODemo(\n",
        "    cfg, \n",
        "    min_image_size=800,\n",
        "    confidence_threshold=0.7,\n",
        "    convert_model=True)\n",
        "\n",
        "base_model = demo.model\n",
        "\n",
        "# Removes pretrained weights from state dict\n",
        "new_state_dict = removekey(base_model.state_dict(), [ \n",
        "                      \"roi_heads.box.predictor.cls_score.weight\", \"roi_heads.box.predictor.cls_score.bias\", \n",
        "                      \"roi_heads.box.predictor.bbox_pred.weight\", \"roi_heads.box.predictor.bbox_pred.bias\",\n",
        "                     \"roi_heads.mask.predictor.mask_fcn_logits.weight\", \"roi_heads.mask.predictor.mask_fcn_logits.bias\"\n",
        "                  ])\n",
        "\n",
        "# Save new state dict, we will use this as our starting weights for our fine-tuned model\n",
        "torch.save(new_state_dict, \"base_model.pth\")"
      ],
      "execution_count": 0,
      "outputs": []
    },
    {
      "cell_type": "markdown",
      "metadata": {
        "id": "bbCBInqHFUg7",
        "colab_type": "text"
      },
      "source": [
        "### Fine Tuned Model Config\n",
        "\n",
        "Here we define our shape Dataset config. The important fields are \n",
        "\n",
        "1. WEIGHT: which point to our base_model.pth saved in the previous step\n",
        "2. NUM_CLASSES: Which define how many classes we will predict . note that the number includes the background, hence our shapes dataset has 4 classes. \n",
        "3. PANOPTIC.CHANNEL_SIZE: To set the channel size of the segmentation head of the FPN.\n",
        "4. PANOPTIC.NUM_CLASSES: Number of classes of semantic segmentation head."
      ]
    },
    {
      "cell_type": "code",
      "metadata": {
        "id": "5AhIiTgmFXyi",
        "colab_type": "code",
        "outputId": "6e38f4a7-2d5c-4162-a824-0261d357d3d1",
        "colab": {
          "base_uri": "https://localhost:8080/",
          "height": 54
        }
      },
      "source": [
        "%%writefile shapes_config.yaml\n",
        "MODEL:\n",
        "  META_ARCHITECTURE: \"GeneralizedRCNN\"\n",
        "  WEIGHT: \"base_model.pth\"\n",
        "  BACKBONE:\n",
        "    CONV_BODY: \"R-50-FPN\"\n",
        "  RESNETS:\n",
        "    BACKBONE_OUT_CHANNELS: 256\n",
        "  RPN:\n",
        "    USE_FPN: True\n",
        "    ANCHOR_STRIDE: (4, 8, 16, 32, 64)\n",
        "    PRE_NMS_TOP_N_TRAIN: 2000\n",
        "    PRE_NMS_TOP_N_TEST: 1000\n",
        "    POST_NMS_TOP_N_TEST: 1000\n",
        "    FPN_POST_NMS_TOP_N_TEST: 1000\n",
        "  ROI_HEADS:\n",
        "    USE_FPN: True\n",
        "  ROI_BOX_HEAD:\n",
        "    POOLER_RESOLUTION: 7\n",
        "    POOLER_SCALES: (0.25, 0.125, 0.0625, 0.03125)\n",
        "    POOLER_SAMPLING_RATIO: 2\n",
        "    FEATURE_EXTRACTOR: \"FPN2MLPFeatureExtractor\"\n",
        "    PREDICTOR: \"FPNPredictor\"\n",
        "    NUM_CLASSES: 4 # background + num_classes : IMPORTANT dont forget to add this\n",
        "  ROI_MASK_HEAD:\n",
        "    POOLER_SCALES: (0.25, 0.125, 0.0625, 0.03125)\n",
        "    FEATURE_EXTRACTOR: \"MaskRCNNFPNFeatureExtractor\"\n",
        "    PREDICTOR: \"MaskRCNNC4Predictor\"\n",
        "    POOLER_RESOLUTION: 14\n",
        "    POOLER_SAMPLING_RATIO: 2\n",
        "    RESOLUTION: 28\n",
        "    SHARE_BOX_FEATURE_EXTRACTOR: False\n",
        "  MASK_ON: True\n",
        "DATALOADER:\n",
        "  SIZE_DIVISIBILITY: 32"
      ],
      "execution_count": 8,
      "outputs": [
        {
          "output_type": "stream",
          "text": [
            "Writing shapes_config.yaml\n"
          ],
          "name": "stdout"
        }
      ]
    },
    {
      "cell_type": "markdown",
      "metadata": {
        "id": "tAn3omCjTFGI",
        "colab_type": "text"
      },
      "source": [
        "### Data Loader\n",
        "\n",
        "This function creates a data loader with our shapes dataset. This data loader is used internally in the repo to train the model."
      ]
    },
    {
      "cell_type": "code",
      "metadata": {
        "id": "oODu2UpVTHXz",
        "colab_type": "code",
        "colab": {}
      },
      "source": [
        "def build_data_loader(cfg, dataset, is_train=True, is_distributed=False, start_iter=0):\n",
        "    num_gpus = get_world_size()\n",
        "    if is_train:\n",
        "        images_per_batch = cfg.SOLVER.IMS_PER_BATCH\n",
        "        assert (\n",
        "            images_per_batch % num_gpus == 0\n",
        "        ), \"SOLVER.IMS_PER_BATCH ({}) must be divisible by the number of GPUs ({}) used.\".format(\n",
        "            images_per_batch, num_gpus)\n",
        "        images_per_gpu = images_per_batch // num_gpus\n",
        "        shuffle = True\n",
        "        num_iters = cfg.SOLVER.MAX_ITER\n",
        "    else:\n",
        "        images_per_batch = cfg.TEST.IMS_PER_BATCH\n",
        "        assert (\n",
        "            images_per_batch % num_gpus == 0\n",
        "        ), \"TEST.IMS_PER_BATCH ({}) must be divisible by the number of GPUs ({}) used.\".format(\n",
        "            images_per_batch, num_gpus)\n",
        "        images_per_gpu = images_per_batch // num_gpus\n",
        "        shuffle = False if not is_distributed else True\n",
        "        num_iters = None\n",
        "        start_iter = 0\n",
        "\n",
        "    if images_per_gpu > 1:\n",
        "        logger = logging.getLogger(__name__)\n",
        "        logger.warning(\n",
        "            \"When using more than one image per GPU you may encounter \"\n",
        "            \"an out-of-memory (OOM) error if your GPU does not have \"\n",
        "            \"sufficient memory. If this happens, you can reduce \"\n",
        "            \"SOLVER.IMS_PER_BATCH (for training) or \"\n",
        "            \"TEST.IMS_PER_BATCH (for inference). For training, you must \"\n",
        "            \"also adjust the learning rate and schedule length according \"\n",
        "            \"to the linear scaling rule. See for example: \"\n",
        "            \"https://github.com/facebookresearch/Detectron/blob/master/configs/getting_started/tutorial_1gpu_e2e_faster_rcnn_R-50-FPN.yaml#L14\"\n",
        "        )\n",
        "\n",
        "    # group images which have similar aspect ratio. In this case, we only\n",
        "    # group in two cases: those with width / height > 1, and the other way around,\n",
        "    # but the code supports more general grouping strategy\n",
        "    aspect_grouping = [1] if cfg.DATALOADER.ASPECT_RATIO_GROUPING else []\n",
        "\n",
        "    paths_catalog = import_file(\n",
        "        \"maskrcnn_benchmark.config.paths_catalog\", cfg.PATHS_CATALOG, True\n",
        "    )\n",
        "    DatasetCatalog = paths_catalog.DatasetCatalog\n",
        "    dataset_list = cfg.DATASETS.TRAIN if is_train else cfg.DATASETS.TEST\n",
        "\n",
        "    # If bbox aug is enabled in testing, simply set transforms to None and we will apply transforms later\n",
        "    transforms = None if not is_train and cfg.TEST.BBOX_AUG.ENABLED else build_transforms(cfg, is_train)\n",
        "    \n",
        "    dataset.transforms = transforms\n",
        "    datasets = [ dataset ]\n",
        "    \n",
        "    data_loaders = []\n",
        "    for dataset in datasets:\n",
        "        sampler = make_data_sampler(dataset, shuffle, is_distributed)\n",
        "        batch_sampler = make_batch_data_sampler(\n",
        "            dataset, sampler, aspect_grouping, images_per_gpu, num_iters, start_iter\n",
        "        )\n",
        "        collator = BBoxAugCollator() if not is_train and cfg.TEST.BBOX_AUG.ENABLED else \\\n",
        "            BatchCollator(cfg.DATALOADER.SIZE_DIVISIBILITY)\n",
        "        num_workers = cfg.DATALOADER.NUM_WORKERS\n",
        "        data_loader = torch.utils.data.DataLoader(\n",
        "            dataset,\n",
        "            num_workers=num_workers,\n",
        "            batch_sampler=batch_sampler,\n",
        "            collate_fn=collator,\n",
        "        )\n",
        "        data_loaders.append(data_loader)\n",
        "    if is_train:\n",
        "        # during training, a single (possibly concatenated) data_loader is returned\n",
        "        assert len(data_loaders) == 1\n",
        "        return data_loaders[0]\n",
        "    return data_loaders"
      ],
      "execution_count": 0,
      "outputs": []
    },
    {
      "cell_type": "markdown",
      "metadata": {
        "id": "zBrlwqT7RsdJ",
        "colab_type": "text"
      },
      "source": [
        "### Detection Model\n",
        "\n",
        "The model is the Mask RCNN as per [this](https://arxiv.org/abs/1901.02446) paper augmented with puruning functions"
      ]
    },
    {
      "cell_type": "code",
      "metadata": {
        "id": "dJMk5lxwRvTh",
        "colab_type": "code",
        "colab": {}
      },
      "source": [
        "class DetectionModel(nn.Module):\n",
        "    \"\"\"\n",
        "    Main class for Panoptic R-CNN. Currently supports boxes and masks.\n",
        "    It consists of three main parts:\n",
        "    - backbone\n",
        "    - rpn\n",
        "    - panoptic: ouputs semantic segmentation mask\n",
        "    - heads: takes the features + the proposals from the RPN and computes\n",
        "        detections / masks from it.\n",
        "    \"\"\"\n",
        "    def __init__(self, cfg, to_prune=False):\n",
        "        super(DetectionModel, self).__init__()\n",
        "\n",
        "        self.backbone = build_backbone(cfg)\n",
        "        self.training = True\n",
        "        self.evaluate = False\n",
        "        self.rpn = build_rpn(cfg, self.backbone.out_channels)\n",
        "        self.roi_heads = build_roi_heads(cfg, self.backbone.out_channels)\n",
        "        \n",
        "        # Pruning Masks\n",
        "        self.binary_masks = None\n",
        "        self.to_prune = to_prune \n",
        "   \n",
        "  \n",
        "    ###################################### \n",
        "    ########Pruning Functions#############\n",
        "    \n",
        "    def prune(self, sparsity_rate):\n",
        "      \n",
        "      \n",
        "      self.sparsity = sparsity_rate     \n",
        "      self.binary_masks = {}\n",
        "\n",
        "\n",
        "      for k, m in enumerate(self.modules()):\n",
        "\n",
        "        if isinstance(m, nn.Conv2d):\n",
        "\n",
        "          weight = m.weight.data.view(-1).clone().abs()\n",
        "          y, i = torch.sort(weight)\n",
        "\n",
        "          spars_index = int(weight.shape[0]*self.sparsity/100)\n",
        "          threshold = y[spars_index]\n",
        "\n",
        "          mask = weight.gt(threshold).float().cuda()\n",
        "          mask = mask.view(m.weight.data.shape)\n",
        "\n",
        "          self.binary_masks[k] = mask\n",
        "\n",
        "          m.weight.data.mul_(mask)\n",
        "      \n",
        "    def applyMasks(self):\n",
        "      \n",
        "      if not self.binary_masks:\n",
        "        return\n",
        "      \n",
        "      for k, m in enumerate(self.modules()):\n",
        "        \n",
        "        if isinstance(m, nn.Conv2d):\n",
        "          \n",
        "          mask = self.binary_masks[k]\n",
        "          m.weight.data.mul_(mask)\n",
        "          \n",
        "    \n",
        "    def pruningStats(self):\n",
        "      \n",
        "      total = 0\n",
        "      total_zero_weights = 0\n",
        "      for k, m in enumerate(self.modules()):\n",
        "\n",
        "          if isinstance(m, nn.Conv2d):\n",
        "\n",
        "            weight = m.weight.data.view(-1).clone().abs()\n",
        "            non_zero_weights = weight.gt(0).float().cuda().sum()\n",
        "            total_weights = weight.shape[0]\n",
        "            zero_weights = 100 - int(non_zero_weights*100/total_weights)\n",
        "            total += 1\n",
        "            total_zero_weights += zero_weights\n",
        "\n",
        "      return total_zero_weights/total\n",
        "  \n",
        "          \n",
        "    ######################################\n",
        "    ######################################\n",
        "       \n",
        "\n",
        "    def forward(self, images, targets=None):\n",
        "        \"\"\"\n",
        "        Arguments:\n",
        "            images (list[Tensor] or ImageList): images to be processed\n",
        "            targets (list[BoxList]): ground-truth boxes present in the image (optional)\n",
        "        Returns:\n",
        "            result (list[BoxList] or dict[Tensor]): the output from the model.\n",
        "                During training, it returns a dict[Tensor] which contains the losses.\n",
        "                During testing, it returns list[BoxList] contains additional fields\n",
        "                like `scores`, `labels` and `mask` (for Mask R-CNN models).\n",
        "        \"\"\"\n",
        "        \n",
        "        if self.to_prune:\n",
        "          self.applyMasks()\n",
        "\n",
        "        images = to_image_list(images)\n",
        "        features = self.backbone(images.tensors)      \n",
        "        proposals, proposal_losses = self.rpn(images, features, targets)\n",
        "      \n",
        "       \n",
        "        if self.roi_heads:\n",
        "            x, result, detector_losses = self.roi_heads(features, proposals, targets)\n",
        "        else:\n",
        "            # RPN-only models don't have roi_heads\n",
        "            x = features\n",
        "            result = proposals\n",
        "            detector_losses = {}\n",
        "\n",
        "        if self.training:            \n",
        "            losses = {}\n",
        "            losses.update(detector_losses)\n",
        "            losses.update(proposal_losses)\n",
        "            \n",
        "            return losses\n",
        "          \n",
        "        return result\n",
        "        "
      ],
      "execution_count": 0,
      "outputs": []
    },
    {
      "cell_type": "markdown",
      "metadata": {
        "id": "NVjPYFN1Pz6D",
        "colab_type": "text"
      },
      "source": [
        "### Build Detection Network"
      ]
    },
    {
      "cell_type": "code",
      "metadata": {
        "id": "WE6K5qZ7Pt5T",
        "colab_type": "code",
        "colab": {}
      },
      "source": [
        "def build_detection_network(cfg, to_prune=False):\n",
        "    return DetectionModel(cfg, to_prune)"
      ],
      "execution_count": 0,
      "outputs": []
    },
    {
      "cell_type": "markdown",
      "metadata": {
        "id": "DkbBHhFtciGa",
        "colab_type": "text"
      },
      "source": [
        "### Compute Target Sparsity\n",
        "\n",
        "According to the \"To Prune or not to Prune\" [paper](https://arxiv.org/abs/1710.01878)"
      ]
    },
    {
      "cell_type": "code",
      "metadata": {
        "id": "WF5oDgUDcqAc",
        "colab_type": "code",
        "colab": {}
      },
      "source": [
        "def compute_target_sparsity(starting_step, current_step, ending_step, final_sparsity, initial_sparsity, span=100):\n",
        "    return final_sparsity + (initial_sparsity - final_sparsity) * ( (1 - ( (current_step - starting_step - span)/(ending_step - starting_step) ) )**3 )\n",
        "  "
      ],
      "execution_count": 0,
      "outputs": []
    },
    {
      "cell_type": "markdown",
      "metadata": {
        "id": "5cQ6oh2-Fa6G",
        "colab_type": "text"
      },
      "source": [
        "### Prune Model"
      ]
    },
    {
      "cell_type": "code",
      "metadata": {
        "id": "APsQaRD-FdKR",
        "colab_type": "code",
        "colab": {}
      },
      "source": [
        "def prune(model, meta):\n",
        "  \n",
        "  starting_step = meta['starting_step']\n",
        "  current_step = meta['current_step']\n",
        "  ending_step = meta['ending_step']\n",
        "  final_sparsity = meta['final_sparsity']\n",
        "  initial_sparsity = meta['initial_sparsity']\n",
        "  span = meta['span']\n",
        "  \n",
        "  sparsity = compute_target_sparsity(starting_step, current_step, ending_step, final_sparsity, initial_sparsity, span=span)\n",
        "  model.prune(sparsity)\n"
      ],
      "execution_count": 0,
      "outputs": []
    },
    {
      "cell_type": "markdown",
      "metadata": {
        "id": "kkLKDmRC0-CE",
        "colab_type": "text"
      },
      "source": [
        "### Train Pruned Model\n",
        "\n",
        "The train function is the entry point into the training process. It creates data loaders, optimisers, loads from checkpoint. "
      ]
    },
    {
      "cell_type": "code",
      "metadata": {
        "id": "4e2-533F1Qmu",
        "colab_type": "code",
        "colab": {}
      },
      "source": [
        "# See if we can use apex.DistributedDataParallel instead of the torch default,\n",
        "# and enable mixed-precision via apex.amp\n",
        "try:\n",
        "    from apex import amp\n",
        "except ImportError:\n",
        "    raise ImportError('Use APEX for multi-precision via apex.amp')\n",
        "    \n",
        "def reduce_loss_dict(loss_dict):\n",
        "    \"\"\"\n",
        "    Reduce the loss dictionary from all processes so that process with rank\n",
        "    0 has the averaged results. Returns a dict with the same fields as\n",
        "    loss_dict, after reduction.\n",
        "    \"\"\"\n",
        "    world_size = get_world_size()\n",
        "    if world_size < 2:\n",
        "        return loss_dict\n",
        "    with torch.no_grad():\n",
        "        loss_names = []\n",
        "        all_losses = []\n",
        "        for k in sorted(loss_dict.keys()):\n",
        "            loss_names.append(k)\n",
        "            all_losses.append(loss_dict[k])\n",
        "        all_losses = torch.stack(all_losses, dim=0)\n",
        "        dist.reduce(all_losses, dst=0)\n",
        "        if dist.get_rank() == 0:\n",
        "            # only main process gets accumulated, so only divide by\n",
        "            # world_size in this case\n",
        "            all_losses /= world_size\n",
        "        reduced_losses = {k: v for k, v in zip(loss_names, all_losses)}\n",
        "    return reduced_losses\n",
        "\n",
        "\n",
        "def do_train(\n",
        "    model,\n",
        "    data_loader,\n",
        "    optimizer,\n",
        "    scheduler,\n",
        "    checkpointer,\n",
        "    device,\n",
        "    checkpoint_period,\n",
        "    arguments,\n",
        "    to_prune\n",
        "):\n",
        "    logger = logging.getLogger(\"maskrcnn_benchmark.trainer\")\n",
        "    logger.error(\"Start training\")\n",
        "    meters = MetricLogger(delimiter=\"  \")\n",
        "    max_iter = len(data_loader)\n",
        "    start_iter = arguments[\"iteration\"]\n",
        "    model.train()\n",
        "    start_training_time = time.time()\n",
        "    end = time.time()\n",
        "    \n",
        "    \n",
        "    for iteration, (images, targets, _) in enumerate(data_loader, start_iter):\n",
        "        \n",
        "        if any(len(target) < 1 for target in targets):\n",
        "            logger.error(f\"Iteration={iteration + 1} || Image Ids used for training {_} || targets Length={[len(target) for target in targets]}\" )\n",
        "            continue\n",
        "            \n",
        "        data_time = time.time() - end\n",
        "        iteration = iteration + 1\n",
        "        arguments[\"iteration\"] = iteration\n",
        "        \n",
        "        if to_prune:\n",
        "          prune_meta['current_step'] = iteration\n",
        "\n",
        "        scheduler.step()\n",
        "\n",
        "        images = images.to(device)\n",
        "        targets = [target.to(device) for target in targets]\n",
        "        \n",
        "        loss_dict = model(images, targets)\n",
        "        \n",
        "        losses = sum(loss for loss in loss_dict.values())\n",
        "        \n",
        "        # reduce losses over all GPUs for logging purposes\n",
        "        loss_dict_reduced = reduce_loss_dict(loss_dict)\n",
        "        losses_reduced = sum(loss for loss in loss_dict_reduced.values())\n",
        "        meters.update(loss=losses_reduced, **loss_dict_reduced)\n",
        "\n",
        "        optimizer.zero_grad()\n",
        "        # Note: If mixed precision is not used, this ends up doing nothing\n",
        "        # Otherwise apply loss scaling for mixed-precision recipe\n",
        "        with amp.scale_loss(losses, optimizer) as scaled_losses:\n",
        "            scaled_losses.backward()\n",
        "        optimizer.step()\n",
        "\n",
        "        batch_time = time.time() - end\n",
        "        end = time.time()\n",
        "        meters.update(time=batch_time, data=data_time)\n",
        "\n",
        "        eta_seconds = meters.time.global_avg * (max_iter - iteration)\n",
        "        eta_string = str(datetime.timedelta(seconds=int(eta_seconds)))\n",
        "        \n",
        "        \n",
        "        # Pruning code\n",
        "        if to_prune:\n",
        "          if (prune_meta['current_step'] - prune_meta['starting_step']) % prune_meta['span'] == 0 and prune_meta['current_step'] > prune_meta['starting_step'] and prune_meta['ending_step'] > prune_meta['current_step']:\n",
        "            prune(model, prune_meta)\n",
        "\n",
        "        if iteration % 20 == 0 or iteration == max_iter:\n",
        "            model.applyMasks()\n",
        "            logger.info(\n",
        "                meters.delimiter.join(\n",
        "                    [\n",
        "                        \"eta: {eta}\",\n",
        "                        \"iter: {iter}\",\n",
        "                        \"{meters}\",\n",
        "                        \"sparsity: {sparsity}\",\n",
        "                        \"lr: {lr:.6f}\",\n",
        "                        \"max mem: {memory:.0f}\",\n",
        "                        \n",
        "                    ]\n",
        "                ).format(\n",
        "                    eta=eta_string,\n",
        "                    iter=iteration,\n",
        "                    meters=str(meters),\n",
        "                    sparsity=model.pruningStats(),\n",
        "                    lr=optimizer.param_groups[0][\"lr\"],\n",
        "                    memory=torch.cuda.max_memory_allocated() / 1024.0 / 1024.0,\n",
        "                )\n",
        "            )\n",
        "        if iteration % checkpoint_period == 0:\n",
        "            checkpointer.save(\"model_{:07d}\".format(iteration), **arguments)\n",
        "        if iteration == max_iter:\n",
        "            checkpointer.save(\"model_final\", **arguments)\n",
        "\n",
        "    total_training_time = time.time() - start_training_time\n",
        "    total_time_str = str(datetime.timedelta(seconds=total_training_time))\n",
        "    logger.info(\n",
        "        \"Total training time: {} ({:.4f} s / it)\".format(\n",
        "            total_time_str, total_training_time / (max_iter)\n",
        "        ))\n",
        "\n",
        "def train(cfg, local_rank, distributed, dataset, to_prune):\n",
        "    model = build_detection_network(cfg, to_prune)\n",
        "\n",
        "    device = torch.device('cuda')\n",
        "    model.to(device)\n",
        "    \n",
        "    optimizer = make_optimizer(cfg, model)\n",
        "    scheduler = make_lr_scheduler(cfg, optimizer)     \n",
        "\n",
        "    # Initialize mixed-precision training\n",
        "    use_mixed_precision = cfg.DTYPE == \"float16\"\n",
        "    amp_opt_level = 'O1' if use_mixed_precision else 'O0'\n",
        "    model, optimizer = amp.initialize(model, optimizer, opt_level=amp_opt_level)\n",
        "\n",
        "    if distributed:\n",
        "        model = torch.nn.parallel.DistributedDataParallel(\n",
        "            model, device_ids=[local_rank], output_device=local_rank,\n",
        "            # this should be removed if we update BatchNorm stats\n",
        "            broadcast_buffers=False,\n",
        "        )\n",
        "\n",
        "    arguments = {}\n",
        "    arguments[\"iteration\"] = 0\n",
        "\n",
        "    output_dir = cfg.OUTPUT_DIR\n",
        "    save_to_disk = get_rank() == 0\n",
        "    checkpointer = DetectronCheckpointer(\n",
        "        cfg, model, optimizer, scheduler, output_dir, save_to_disk\n",
        "    )\n",
        "    extra_checkpoint_data = checkpointer.load(cfg.MODEL.WEIGHT)\n",
        "    arguments.update(extra_checkpoint_data)\n",
        "\n",
        "\n",
        "    data_loader = build_data_loader(cfg, dataset)\n",
        "\n",
        "    checkpoint_period = cfg.SOLVER.CHECKPOINT_PERIOD\n",
        "\n",
        "    do_train(\n",
        "        model,\n",
        "        data_loader,\n",
        "        optimizer,\n",
        "        scheduler,\n",
        "        checkpointer,\n",
        "        device,\n",
        "        checkpoint_period,\n",
        "        arguments,\n",
        "        to_prune\n",
        "    )\n",
        "\n",
        "    return model"
      ],
      "execution_count": 0,
      "outputs": []
    },
    {
      "cell_type": "markdown",
      "metadata": {
        "id": "pVeJNhzy2DZs",
        "colab_type": "text"
      },
      "source": [
        "## Unpruned Model Driver\n",
        "\n",
        "Here we fire off training of a regular unpruned model by calling the above function. before that we set some important config for our training. We make our dataset and update our config. Then we fire off training !"
      ]
    },
    {
      "cell_type": "code",
      "metadata": {
        "id": "XtgfPl7F2CEP",
        "colab_type": "code",
        "colab": {}
      },
      "source": [
        "config_file = \"shapes_config.yaml\"\n",
        "\n",
        "# update the config options with the config file\n",
        "cfg.merge_from_file(config_file)\n",
        "\n",
        "cfg.merge_from_list(['OUTPUT_DIR', 'segDirNotPruned']) # The output folder where all our model checkpoints will be saved during training.\n",
        "cfg.merge_from_list(['SOLVER.IMS_PER_BATCH', 25]) # Number of images to take insiade a single batch. This number depends on the size of your GPU\n",
        "cfg.merge_from_list(['SOLVER.BASE_LR', 0.0001]) # The Learning Rate when training starts. Please check Detectron scaling rules to determine your learning for your GPU setup. \n",
        "cfg.merge_from_list(['SOLVER.MAX_ITER', 1000]) # The number of training iterations that will be executed during training. One iteration is given as one forward and backward pass of a mini batch of the network\n",
        "cfg.merge_from_list(['SOLVER.STEPS', \"(700, 800)\"]) # These two numberes represent after how many iterations is the learning rate divided by 10. \n",
        "cfg.merge_from_list(['TEST.IMS_PER_BATCH', 1]) # Batch size during testing/evaluation\n",
        "cfg.merge_from_list(['MODEL.RPN.FPN_POST_NMS_TOP_N_TRAIN', 2000]) # This determines how many region proposals to take in for processing into the stage after the RPN. The rule is 1000*batch_size = 4*1000 \n",
        "cfg.merge_from_list(['SOLVER.CHECKPOINT_PERIOD', 100]) # After how many iterations does one want to save the model.\n",
        "cfg.merge_from_list(['INPUT.MIN_SIZE_TRAIN', \"(192, )\"])\n",
        "cfg.merge_from_list(['INPUT.MAX_SIZE_TRAIN', 192])\n",
        "# Make the Output dir if one doesnt exist.\n",
        "output_dir = cfg.OUTPUT_DIR\n",
        "if output_dir:\n",
        "    mkdir(output_dir)\n",
        "\n",
        "# Start training.\n",
        "model = train(cfg, local_rank=1, distributed=False, dataset=ShapeDataset(2000), to_prune=False)"
      ],
      "execution_count": 0,
      "outputs": []
    },
    {
      "cell_type": "markdown",
      "metadata": {
        "id": "uKfqWq3jKBcb",
        "colab_type": "text"
      },
      "source": [
        "# Prune Model Driver\n",
        "\n",
        "Here we fire off training of a pruned model by calling the above function."
      ]
    },
    {
      "cell_type": "code",
      "metadata": {
        "id": "3MMMJlQHaXbV",
        "colab_type": "code",
        "colab": {}
      },
      "source": [
        "!rm -rf segDirPruned"
      ],
      "execution_count": 0,
      "outputs": []
    },
    {
      "cell_type": "code",
      "metadata": {
        "id": "KI4Xye__asS0",
        "colab_type": "code",
        "colab": {}
      },
      "source": [
        "config_file = \"shapes_config.yaml\"\n",
        "\n",
        "# update the config options with the config file\n",
        "cfg.merge_from_file(config_file)\n",
        "\n",
        "cfg.merge_from_list(['OUTPUT_DIR', 'segDirPruned']) # The output folder where all our model checkpoints will be saved during training.\n",
        "cfg.merge_from_list(['SOLVER.IMS_PER_BATCH', 25]) # Number of images to take insiade a single batch. This number depends on the size of your GPU\n",
        "cfg.merge_from_list(['SOLVER.BASE_LR', 0.0001]) # The Learning Rate when training starts. Please check Detectron scaling rules to determine your learning for your GPU setup. \n",
        "cfg.merge_from_list(['SOLVER.MAX_ITER', 1000]) # The number of training iterations that will be executed during training. One iteration is given as one forward and backward pass of a mini batch of the network\n",
        "cfg.merge_from_list(['SOLVER.STEPS', \"(800, 900)\"]) # These two numberes represent after how many iterations is the learning rate divided by 10. \n",
        "cfg.merge_from_list(['TEST.IMS_PER_BATCH', 1]) # Batch size during testing/evaluation\n",
        "cfg.merge_from_list(['MODEL.RPN.FPN_POST_NMS_TOP_N_TRAIN', 2000]) # This determines how many region proposals to take in for processing into the stage after the RPN. The rule is 1000*batch_size = 4*1000 \n",
        "cfg.merge_from_list(['SOLVER.CHECKPOINT_PERIOD', 100]) # After how many iterations does one want to save the model.\n",
        "cfg.merge_from_list(['INPUT.MIN_SIZE_TRAIN', \"(192, )\"])\n",
        "cfg.merge_from_list(['INPUT.MAX_SIZE_TRAIN', 192])\n",
        "# Make the Output dir if one doesnt exist.\n",
        "output_dir = cfg.OUTPUT_DIR\n",
        "if output_dir:\n",
        "    mkdir(output_dir)\n",
        "    \n",
        "# Prune Config\n",
        "# 70 percent sparsity \n",
        "prune_meta = {\n",
        "    \"starting_step\" : 0,\n",
        "    \"current_step\": 0,\n",
        "    \"ending_step\": 700, # final 200 steps train with frozen masks \n",
        "    \"final_sparsity\": 70,\n",
        "    \"initial_sparsity\": 0,\n",
        "    \"span\": 40\n",
        "}\n",
        "\n",
        "# Start training.\n",
        "pruned_model = train(cfg, local_rank=1, distributed=False, dataset=ShapeDataset(2000), to_prune=True)"
      ],
      "execution_count": 0,
      "outputs": []
    },
    {
      "cell_type": "markdown",
      "metadata": {
        "id": "Zp8nWrizaPBN",
        "colab_type": "text"
      },
      "source": [
        "# Evaluate"
      ]
    },
    {
      "cell_type": "code",
      "metadata": {
        "id": "9cyRGdaNaRQI",
        "colab_type": "code",
        "colab": {}
      },
      "source": [
        "def do_inference(\n",
        "        model,\n",
        "        data_loader,\n",
        "        dataset_name,\n",
        "        iou_types=(\"bbox\",),\n",
        "        box_only=False,\n",
        "        device=\"cuda\",\n",
        "        expected_results=(),\n",
        "        expected_results_sigma_tol=4,\n",
        "        output_folder=None,):\n",
        "  \n",
        "    # convert to a torch.device for efficiency\n",
        "    device = torch.device(device)\n",
        "    num_devices = get_world_size()\n",
        "    logger = logging.getLogger(\"maskrcnn_benchmark.inference\")\n",
        "    dataset = data_loader.dataset\n",
        "    logger.info(\"Start evaluation on {} dataset({} images).\".format(dataset_name, len(dataset)))\n",
        "    total_timer = Timer()\n",
        "    inference_timer = Timer()\n",
        "    total_timer.tic()\n",
        "    predictions = compute_on_dataset(model, data_loader, device, inference_timer)\n",
        "    \n",
        "    # wait for all processes to complete before measuring the time\n",
        "    synchronize()\n",
        "    total_time = total_timer.toc()\n",
        "    total_time_str = get_time_str(total_time)\n",
        "    logger.info(\n",
        "        \"Total run time: {} ({} s / img per device, on {} devices)\".format(\n",
        "            total_time_str, total_time * num_devices / len(dataset), num_devices\n",
        "        )\n",
        "    )\n",
        "    \n",
        "    total_infer_time = get_time_str(inference_timer.total_time)\n",
        "    logger.info(\n",
        "        \"Model inference time: {} ({} s / img per device, on {} devices)\".format(\n",
        "            total_infer_time,\n",
        "            inference_timer.total_time * num_devices / len(dataset),\n",
        "            num_devices,\n",
        "        )\n",
        "    )\n",
        "    \n",
        "    predictions = _accumulate_predictions_from_multiple_gpus(predictions)\n",
        "    if not is_main_process():\n",
        "        return\n",
        "\n",
        "    if output_folder:\n",
        "        torch.save(predictions, os.path.join(output_folder, \"predictions.pth\"))\n",
        "\n",
        "    extra_args = dict(\n",
        "        box_only=box_only,\n",
        "        iou_types=iou_types,\n",
        "        expected_results=expected_results,\n",
        "        expected_results_sigma_tol=expected_results_sigma_tol,\n",
        "    )\n",
        "\n",
        "    return coco_evaluation(dataset=dataset,\n",
        "                    predictions=predictions,\n",
        "                    output_folder=output_folder,\n",
        "                    **extra_args)\n",
        "\n",
        "def run_test(cfg, model, distributed, dataset):\n",
        "    if distributed:\n",
        "        model = model.module\n",
        "    torch.cuda.empty_cache()  # TODO check if it helps\n",
        "    iou_types = (\"bbox\",)\n",
        "    \n",
        "    data_loaders_val = build_data_loader(cfg, dataset, is_train=False)\n",
        "    mkdir(\"shapeVal\")\n",
        "    model.evaluate = True\n",
        "    \n",
        "    for data_loader in data_loaders_val:\n",
        "      do_inference(\n",
        "          model,\n",
        "          data_loader, # For test we need this as zero\n",
        "          dataset_name=\"shape-val\",\n",
        "          iou_types=iou_types,\n",
        "          box_only=False if cfg.MODEL.RETINANET_ON else cfg.MODEL.RPN_ONLY,\n",
        "          device=cfg.MODEL.DEVICE,\n",
        "          expected_results=cfg.TEST.EXPECTED_RESULTS,\n",
        "          expected_results_sigma_tol=cfg.TEST.EXPECTED_RESULTS_SIGMA_TOL,\n",
        "          output_folder=\"shapeVal\",\n",
        "      )\n",
        "      synchronize()\n"
      ],
      "execution_count": 0,
      "outputs": []
    },
    {
      "cell_type": "markdown",
      "metadata": {
        "id": "P4dHs-N1W9Cg",
        "colab_type": "text"
      },
      "source": [
        "## Evaluate Pruned and Unpruned model\n",
        "\n",
        "Here we check the differences between a pruned and unpruned model. By checking the sparsity rate and COCO mAP evaluation."
      ]
    },
    {
      "cell_type": "markdown",
      "metadata": {
        "id": "JHGkrOKhWn4V",
        "colab_type": "text"
      },
      "source": [
        "### Verify sparsity \n",
        "\n",
        "Here we check the rate of sparsity of our convolutional kernels. "
      ]
    },
    {
      "cell_type": "code",
      "metadata": {
        "id": "DtAXrFoxWdAh",
        "colab_type": "code",
        "colab": {
          "base_uri": "https://localhost:8080/",
          "height": 52
        },
        "outputId": "0369b24b-46ef-4204-a3b6-50b9477556c9"
      },
      "source": [
        "print(\"Sparsity of convolution weights of Pruned Model is \", pruned_model.pruningStats())\n",
        "\n",
        "print(\"Sparsity of convolution weights of Unpruned Model is \", model.pruningStats())"
      ],
      "execution_count": 39,
      "outputs": [
        {
          "output_type": "stream",
          "text": [
            "Sparsity of convolution weights of Pruned Model is  70.02898550724638\n",
            "Sparsity of convolution weights of Unpruned Model is  0.0\n"
          ],
          "name": "stdout"
        }
      ]
    },
    {
      "cell_type": "markdown",
      "metadata": {
        "id": "Y_OwJDO2W1Bg",
        "colab_type": "text"
      },
      "source": [
        "### Evaluate Pruned Model"
      ]
    },
    {
      "cell_type": "code",
      "metadata": {
        "id": "awvrvnEiHfNs",
        "colab_type": "code",
        "colab": {
          "base_uri": "https://localhost:8080/",
          "height": 674
        },
        "outputId": "b3689112-a9f9-4741-a275-15dd3e0bb706"
      },
      "source": [
        "run_test(cfg, model=pruned_model, distributed=False, dataset=ShapeDataset(50))"
      ],
      "execution_count": 40,
      "outputs": [
        {
          "output_type": "stream",
          "text": [
            "loading annotations into memory...\n",
            "Done (t=0.00s)\n",
            "creating index...\n",
            "index created!\n",
            "2019-07-12 05:21:57,947 maskrcnn_benchmark.inference INFO: Start evaluation on shape-val dataset(50 images).\n"
          ],
          "name": "stdout"
        },
        {
          "output_type": "stream",
          "text": [
            "100%|██████████| 50/50 [00:04<00:00, 10.73it/s]"
          ],
          "name": "stderr"
        },
        {
          "output_type": "stream",
          "text": [
            "2019-07-12 05:22:03,019 maskrcnn_benchmark.inference INFO: Total run time: 0:00:05.069178 (0.10138356208801269 s / img per device, on 1 devices)\n",
            "2019-07-12 05:22:03,021 maskrcnn_benchmark.inference INFO: Model inference time: 0:00:04.547834 (0.09095668315887451 s / img per device, on 1 devices)\n",
            "2019-07-12 05:22:03,040 maskrcnn_benchmark.inference INFO: Preparing results for COCO format\n",
            "2019-07-12 05:22:03,045 maskrcnn_benchmark.inference INFO: Preparing bbox results\n",
            "2019-07-12 05:22:03,060 maskrcnn_benchmark.inference INFO: Evaluating predictions\n"
          ],
          "name": "stdout"
        },
        {
          "output_type": "stream",
          "text": [
            "\n"
          ],
          "name": "stderr"
        },
        {
          "output_type": "stream",
          "text": [
            "Loading and preparing results...\n",
            "DONE (t=0.01s)\n",
            "creating index...\n",
            "index created!\n",
            "Running per image evaluation...\n",
            "Evaluate annotation type *bbox*\n",
            "DONE (t=0.16s).\n",
            "Accumulating evaluation results...\n",
            "DONE (t=0.03s).\n",
            " Average Precision  (AP) @[ IoU=0.50:0.95 | area=   all | maxDets=100 ] = 0.639\n",
            " Average Precision  (AP) @[ IoU=0.50      | area=   all | maxDets=100 ] = 0.880\n",
            " Average Precision  (AP) @[ IoU=0.75      | area=   all | maxDets=100 ] = 0.778\n",
            " Average Precision  (AP) @[ IoU=0.50:0.95 | area= small | maxDets=100 ] = -1.000\n",
            " Average Precision  (AP) @[ IoU=0.50:0.95 | area=medium | maxDets=100 ] = 0.644\n",
            " Average Precision  (AP) @[ IoU=0.50:0.95 | area= large | maxDets=100 ] = -1.000\n",
            " Average Recall     (AR) @[ IoU=0.50:0.95 | area=   all | maxDets=  1 ] = 0.562\n",
            " Average Recall     (AR) @[ IoU=0.50:0.95 | area=   all | maxDets= 10 ] = 0.699\n",
            " Average Recall     (AR) @[ IoU=0.50:0.95 | area=   all | maxDets=100 ] = 0.702\n",
            " Average Recall     (AR) @[ IoU=0.50:0.95 | area= small | maxDets=100 ] = -1.000\n",
            " Average Recall     (AR) @[ IoU=0.50:0.95 | area=medium | maxDets=100 ] = 0.702\n",
            " Average Recall     (AR) @[ IoU=0.50:0.95 | area= large | maxDets=100 ] = -1.000\n",
            "2019-07-12 05:22:03,322 maskrcnn_benchmark.inference INFO: \n",
            "Task: bbox\n",
            "AP, AP50, AP75, APs, APm, APl\n",
            "0.6387, 0.8799, 0.7780, -1.0000, 0.6443, -1.0000\n",
            "\n"
          ],
          "name": "stdout"
        }
      ]
    },
    {
      "cell_type": "markdown",
      "metadata": {
        "id": "T0zqqGPJXi5n",
        "colab_type": "text"
      },
      "source": [
        "### Evaluate Unpruned Model"
      ]
    },
    {
      "cell_type": "code",
      "metadata": {
        "id": "gIuhGoZDXmtz",
        "colab_type": "code",
        "colab": {
          "base_uri": "https://localhost:8080/",
          "height": 674
        },
        "outputId": "b0310be5-cfae-42b7-9586-50b98176236a"
      },
      "source": [
        "run_test(cfg, model=model, distributed=False, dataset=ShapeDataset(50))"
      ],
      "execution_count": 41,
      "outputs": [
        {
          "output_type": "stream",
          "text": [
            "loading annotations into memory...\n",
            "Done (t=0.00s)\n",
            "creating index...\n",
            "index created!\n",
            "2019-07-12 05:22:03,382 maskrcnn_benchmark.inference INFO: Start evaluation on shape-val dataset(50 images).\n"
          ],
          "name": "stdout"
        },
        {
          "output_type": "stream",
          "text": [
            "100%|██████████| 50/50 [00:04<00:00, 11.19it/s]"
          ],
          "name": "stderr"
        },
        {
          "output_type": "stream",
          "text": [
            "2019-07-12 05:22:08,099 maskrcnn_benchmark.inference INFO: Total run time: 0:00:04.715749 (0.09431497573852539 s / img per device, on 1 devices)\n",
            "2019-07-12 05:22:08,101 maskrcnn_benchmark.inference INFO: Model inference time: 0:00:04.222170 (0.08444340705871582 s / img per device, on 1 devices)\n",
            "2019-07-12 05:22:08,118 maskrcnn_benchmark.inference INFO: Preparing results for COCO format\n",
            "2019-07-12 05:22:08,121 maskrcnn_benchmark.inference INFO: Preparing bbox results\n",
            "2019-07-12 05:22:08,141 maskrcnn_benchmark.inference INFO: Evaluating predictions\n"
          ],
          "name": "stdout"
        },
        {
          "output_type": "stream",
          "text": [
            "\n"
          ],
          "name": "stderr"
        },
        {
          "output_type": "stream",
          "text": [
            "Loading and preparing results...\n",
            "DONE (t=0.01s)\n",
            "creating index...\n",
            "index created!\n",
            "Running per image evaluation...\n",
            "Evaluate annotation type *bbox*\n",
            "DONE (t=0.12s).\n",
            "Accumulating evaluation results...\n",
            "DONE (t=0.03s).\n",
            " Average Precision  (AP) @[ IoU=0.50:0.95 | area=   all | maxDets=100 ] = 0.686\n",
            " Average Precision  (AP) @[ IoU=0.50      | area=   all | maxDets=100 ] = 0.943\n",
            " Average Precision  (AP) @[ IoU=0.75      | area=   all | maxDets=100 ] = 0.767\n",
            " Average Precision  (AP) @[ IoU=0.50:0.95 | area= small | maxDets=100 ] = -1.000\n",
            " Average Precision  (AP) @[ IoU=0.50:0.95 | area=medium | maxDets=100 ] = 0.694\n",
            " Average Precision  (AP) @[ IoU=0.50:0.95 | area= large | maxDets=100 ] = -1.000\n",
            " Average Recall     (AR) @[ IoU=0.50:0.95 | area=   all | maxDets=  1 ] = 0.577\n",
            " Average Recall     (AR) @[ IoU=0.50:0.95 | area=   all | maxDets= 10 ] = 0.746\n",
            " Average Recall     (AR) @[ IoU=0.50:0.95 | area=   all | maxDets=100 ] = 0.749\n",
            " Average Recall     (AR) @[ IoU=0.50:0.95 | area= small | maxDets=100 ] = -1.000\n",
            " Average Recall     (AR) @[ IoU=0.50:0.95 | area=medium | maxDets=100 ] = 0.749\n",
            " Average Recall     (AR) @[ IoU=0.50:0.95 | area= large | maxDets=100 ] = -1.000\n",
            "2019-07-12 05:22:08,332 maskrcnn_benchmark.inference INFO: \n",
            "Task: bbox\n",
            "AP, AP50, AP75, APs, APm, APl\n",
            "0.6858, 0.9433, 0.7668, -1.0000, 0.6935, -1.0000\n",
            "\n"
          ],
          "name": "stdout"
        }
      ]
    },
    {
      "cell_type": "markdown",
      "metadata": {
        "id": "ccHt8YMdKq6K",
        "colab_type": "text"
      },
      "source": [
        "# Visualise\n",
        "\n",
        "An important part of validating your model is visualising the results. This is done below"
      ]
    },
    {
      "cell_type": "code",
      "metadata": {
        "id": "WOXgrPWIa-ND",
        "colab_type": "code",
        "colab": {
          "base_uri": "https://localhost:8080/",
          "height": 87
        },
        "outputId": "aa5ff55c-01d5-4128-efcc-013f342da713"
      },
      "source": [
        "# Load Dataset\n",
        "dataset = ShapeDataset(50)"
      ],
      "execution_count": 52,
      "outputs": [
        {
          "output_type": "stream",
          "text": [
            "loading annotations into memory...\n",
            "Done (t=0.00s)\n",
            "creating index...\n",
            "index created!\n"
          ],
          "name": "stdout"
        }
      ]
    },
    {
      "cell_type": "markdown",
      "metadata": {
        "id": "-vim-GMFa_1X",
        "colab_type": "text"
      },
      "source": [
        "### Load unpruned model for vis"
      ]
    },
    {
      "cell_type": "code",
      "metadata": {
        "id": "kb9VchvVzRpu",
        "colab_type": "code",
        "colab": {}
      },
      "source": [
        "# Load Trained Model\n",
        "config_file = \"shapes_config.yaml\"\n",
        "\n",
        "cfg.merge_from_file(config_file)\n",
        "# manual override some options\n",
        "# cfg.merge_from_list([\"MODEL.DEVICE\", \"cpu\"])\n",
        "\n",
        "# manual override some options\n",
        "cfg.merge_from_list(['OUTPUT_DIR', 'segDirNotPruned']) # The output folder where all our model checkpoints will be saved during training.\n",
        "\n",
        "# update the config options with the config file\n",
        "cfg.merge_from_file(config_file)\n",
        "\n",
        "cfg.merge_from_list(['INPUT.MIN_SIZE_TRAIN', \"(192, )\"])\n",
        "cfg.merge_from_list(['INPUT.MAX_SIZE_TRAIN', 192])\n",
        "\n",
        "cfg.merge_from_list(['INPUT.MIN_SIZE_TEST', 192])\n",
        "cfg.merge_from_list(['INPUT.MAX_SIZE_TEST', 192])\n",
        "\n",
        "\n",
        "unpruned_demo = COCODemo(\n",
        "    cfg, \n",
        "    min_image_size=192,\n",
        "    confidence_threshold=0.7)\n",
        "\n",
        "# Add these for printing class names over your predictions.\n",
        "COCODemo.CATEGORIES = [\n",
        "    \"__background\",\n",
        "    \"square\",\n",
        "    \"circle\",\n",
        "    \"triangle\"\n",
        "]\n",
        "\n"
      ],
      "execution_count": 0,
      "outputs": []
    },
    {
      "cell_type": "markdown",
      "metadata": {
        "id": "-uCq7_NPbFT9",
        "colab_type": "text"
      },
      "source": [
        "###  Load pruned model for vis"
      ]
    },
    {
      "cell_type": "code",
      "metadata": {
        "id": "goyZr5o4bFpC",
        "colab_type": "code",
        "colab": {}
      },
      "source": [
        "# Load Trained Model\n",
        "config_file = \"shapes_config.yaml\"\n",
        "\n",
        "cfg.merge_from_file(config_file)\n",
        "# manual override some options\n",
        "# cfg.merge_from_list([\"MODEL.DEVICE\", \"cpu\"])\n",
        "\n",
        "# manual override some options\n",
        "cfg.merge_from_list(['OUTPUT_DIR', 'segDirPruned']) # The output folder where all our model checkpoints will be saved during training.\n",
        "\n",
        "# update the config options with the config file\n",
        "cfg.merge_from_file(config_file)\n",
        "\n",
        "cfg.merge_from_list(['INPUT.MIN_SIZE_TRAIN', \"(192, )\"])\n",
        "cfg.merge_from_list(['INPUT.MAX_SIZE_TRAIN', 192])\n",
        "\n",
        "cfg.merge_from_list(['INPUT.MIN_SIZE_TEST', 192])\n",
        "cfg.merge_from_list(['INPUT.MAX_SIZE_TEST', 192])\n",
        "\n",
        "\n",
        "pruned_demo = COCODemo(\n",
        "    cfg, \n",
        "    min_image_size=192,\n",
        "    confidence_threshold=0.7)\n",
        "\n",
        "# Add these for printing class names over your predictions.\n",
        "COCODemo.CATEGORIES = [\n",
        "    \"__background\",\n",
        "    \"square\",\n",
        "    \"circle\",\n",
        "    \"triangle\"\n",
        "]\n"
      ],
      "execution_count": 0,
      "outputs": []
    },
    {
      "cell_type": "markdown",
      "metadata": {
        "id": "c8b6wHAXjyE5",
        "colab_type": "text"
      },
      "source": [
        "## Visualise"
      ]
    },
    {
      "cell_type": "markdown",
      "metadata": {
        "id": "RSPq97dtWFrA",
        "colab_type": "text"
      },
      "source": [
        "### Input Image"
      ]
    },
    {
      "cell_type": "code",
      "metadata": {
        "id": "Ir-cYCvKSbNI",
        "colab_type": "code",
        "outputId": "83911692-1805-464a-a163-48d575e2340e",
        "colab": {
          "base_uri": "https://localhost:8080/",
          "height": 485
        }
      },
      "source": [
        "# Visualise Input Image\n",
        "rows = 2\n",
        "cols = 2\n",
        "fig = plt.figure(figsize=(8, 8))\n",
        "for i in range(1, rows*cols+1):\n",
        "  img = dataset.load_image(i+5)\n",
        "  \n",
        "  fig.add_subplot(rows, cols, i)\n",
        "  plt.imshow(img)\n",
        "plt.show()"
      ],
      "execution_count": 56,
      "outputs": [
        {
          "output_type": "display_data",
          "data": {
            "image/png": "[encoded data removed]",
            "text/plain": [
              "<Figure size 576x576 with 4 Axes>"
            ]
          },
          "metadata": {
            "tags": []
          }
        }
      ]
    },
    {
      "cell_type": "markdown",
      "metadata": {
        "id": "zWKmRev3WKK4",
        "colab_type": "text"
      },
      "source": [
        "### Visualise Unpruned Results"
      ]
    },
    {
      "cell_type": "code",
      "metadata": {
        "id": "vwwTWZ6xba0q",
        "colab_type": "code",
        "colab": {
          "base_uri": "https://localhost:8080/",
          "height": 485
        },
        "outputId": "c9ffbb8a-9951-4af8-c63e-b2d215107f1d"
      },
      "source": [
        "# Visualise Results\n",
        "rows = 2\n",
        "cols = 2\n",
        "fig = plt.figure(figsize=(8, 8))\n",
        "for i in range(1, rows*cols+1):\n",
        "  img = dataset.load_image(i+5)\n",
        "  image = np.array(img)[:, :, [2, 1, 0]]\n",
        "  result = unpruned_demo.run_on_opencv_image(image, objDet=\"True\")\n",
        "  \n",
        "  fig.add_subplot(rows, cols, i)\n",
        "  plt.imshow(result)\n",
        "plt.show()"
      ],
      "execution_count": 57,
      "outputs": [
        {
          "output_type": "display_data",
          "data": {
            "image/png": "[encoded data removed]",
            "text/plain": [
              "<Figure size 576x576 with 4 Axes>"
            ]
          },
          "metadata": {
            "tags": []
          }
        }
      ]
    },
    {
      "cell_type": "markdown",
      "metadata": {
        "id": "8qYiiUqGWR1r",
        "colab_type": "text"
      },
      "source": [
        "### Visualise Pruned Model Results"
      ]
    },
    {
      "cell_type": "code",
      "metadata": {
        "id": "PWwT_DbRT2ID",
        "colab_type": "code",
        "outputId": "c64bf2b1-f885-4378-f7e8-58fac64275e8",
        "colab": {
          "base_uri": "https://localhost:8080/",
          "height": 485
        }
      },
      "source": [
        "# Visualise Results\n",
        "rows = 2\n",
        "cols = 2\n",
        "fig = plt.figure(figsize=(8, 8))\n",
        "for i in range(1, rows*cols+1):\n",
        "  img = dataset.load_image(i+5)\n",
        "  image = np.array(img)[:, :, [2, 1, 0]]\n",
        "  result = pruned_demo.run_on_opencv_image(image, objDet=\"True\")\n",
        "  \n",
        "  fig.add_subplot(rows, cols, i)\n",
        "  plt.imshow(result)\n",
        "plt.show()"
      ],
      "execution_count": 58,
      "outputs": [
        {
          "output_type": "display_data",
          "data": {
            "image/png": "[encoded data removed]",
            "text/plain": [
              "<Figure size 576x576 with 4 Axes>"
            ]
          },
          "metadata": {
            "tags": []
          }
        }
      ]
    },
    {
      "cell_type": "markdown",
      "metadata": {
        "id": "MTct6_8Hbfpz",
        "colab_type": "text"
      },
      "source": [
        "### Fin"
      ]
    }
  ]
}